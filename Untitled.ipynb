{
 "cells": [
  {
   "cell_type": "code",
   "execution_count": 3,
   "id": "372c8c44",
   "metadata": {},
   "outputs": [
    {
     "data": {
      "text/plain": [
       "('airline-passengers.csv', <http.client.HTTPMessage at 0x1063e2910>)"
      ]
     },
     "execution_count": 3,
     "metadata": {},
     "output_type": "execute_result"
    }
   ],
   "source": [
    "# https://colab.research.google.com/github/dlmacedo/starter-academic/blob/master/content/courses/deeplearning/notebooks/pytorch/Time_Series_Prediction_with_LSTM_Using_PyTorch.ipynb#scrollTo=CKEzO1jzKydL\n",
    "\n",
    "import urllib.request\n",
    "\n",
    "url = 'https://raw.githubusercontent.com/jbrownlee/Datasets/master/airline-passengers.csv'\n",
    "filename = 'airline-passengers.csv'\n",
    "urllib.request.urlretrieve(url, filename)"
   ]
  },
  {
   "cell_type": "code",
   "execution_count": 65,
   "id": "e629c9ca",
   "metadata": {},
   "outputs": [],
   "source": [
    "import numpy as np\n",
    "import matplotlib.pyplot as plt\n",
    "import pandas as pd\n",
    "\n",
    "import torch\n",
    "import torch.nn as nn\n",
    "import torch.nn.functional as Func\n",
    "from torch.autograd import Variable\n",
    "\n",
    "from sklearn.preprocessing import MinMaxScaler"
   ]
  },
  {
   "cell_type": "code",
   "execution_count": 67,
   "id": "2eb79e32",
   "metadata": {},
   "outputs": [
    {
     "data": {
      "image/png": "[encoded data removed]",
      "text/plain": [
       "<Figure size 432x288 with 1 Axes>"
      ]
     },
     "metadata": {
      "needs_background": "light"
     },
     "output_type": "display_data"
    }
   ],
   "source": [
    "training_set = pd.read_csv('airline-passengers.csv')\n",
    "training_set = training_set.iloc[:,1:2].values\n",
    "\n",
    "plt.plot(actions, \"o\", label = 'Airline Passangers Data')\n",
    "plt.show()"
   ]
  },
  {
   "cell_type": "code",
   "execution_count": 68,
   "id": "df684bd6",
   "metadata": {},
   "outputs": [],
   "source": [
    "def sliding_windows(data, seq_length):\n",
    "    x = []\n",
    "    y = []\n",
    "\n",
    "    for i in range(len(data)-seq_length-1):\n",
    "        _x = data[i:(i+seq_length)]\n",
    "        _y = data[i+seq_length] # _y = data[i+seq_length]\n",
    "        x.append(_x)\n",
    "        y.append(_y)\n",
    "\n",
    "    return np.array(x), np.array(y) # train, val. data\n",
    "\n",
    "#sc = MinMaxScaler()\n",
    "#training_data = sc.fit_transform(actions)\n",
    "training_data = actions\n",
    "\n",
    "seq_length = 20\n",
    "x, y = sliding_windows(training_data, seq_length)\n",
    "\n",
    "train_size = int(len(y) * 0.67)\n",
    "test_size = len(y) - train_size\n",
    "\n",
    "dataX = Variable(torch.Tensor(np.array(x)))\n",
    "dataY = Variable(torch.Tensor(np.array(y)))\n",
    "\n",
    "trainX = Variable(torch.Tensor(np.array(x[0:train_size])))\n",
    "trainY = Variable(torch.Tensor(np.array(y[0:train_size])))\n",
    "\n",
    "testX = Variable(torch.Tensor(np.array(x[train_size:len(x)])))\n",
    "testY = Variable(torch.Tensor(np.array(y[train_size:len(y)])))"
   ]
  },
  {
   "cell_type": "code",
   "execution_count": 69,
   "id": "022d5f1c",
   "metadata": {},
   "outputs": [],
   "source": [
    "class LSTM(nn.Module):\n",
    "\n",
    "    def __init__(self, num_classes, input_size, hidden_size, num_layers):\n",
    "        super(LSTM, self).__init__()\n",
    "        \n",
    "        self.num_classes = num_classes\n",
    "        self.num_layers = num_layers\n",
    "        self.input_size = input_size\n",
    "        self.hidden_size = hidden_size\n",
    "        self.seq_length = seq_length\n",
    "        \n",
    "        self.lstm = nn.LSTM(input_size=input_size, hidden_size=hidden_size,\n",
    "                            num_layers=num_layers, batch_first=True)\n",
    "        \n",
    "        self.fc = nn.Linear(hidden_size, num_classes)\n",
    "\n",
    "    def forward(self, x):\n",
    "        h_0 = Variable(torch.zeros(\n",
    "            self.num_layers, x.size(0), self.hidden_size))\n",
    "        c_0 = Variable(torch.zeros(\n",
    "            self.num_layers, x.size(0), self.hidden_size))\n",
    "        \n",
    "        # Propagate input through LSTM\n",
    "        ula, (h_out, _) = self.lstm(x, (h_0, c_0))\n",
    "        h_out = h_out.view(-1, self.hidden_size)\n",
    "        out = self.fc(h_out)\n",
    "        \n",
    "        return out"
   ]
  },
  {
   "cell_type": "code",
   "execution_count": 74,
   "id": "354cf073",
   "metadata": {},
   "outputs": [
    {
     "name": "stdout",
     "output_type": "stream",
     "text": [
      "1\n"
     ]
    }
   ],
   "source": [
    "print(len(trainX[0][0]))"
   ]
  },
  {
   "cell_type": "code",
   "execution_count": 60,
   "id": "8f946e25",
   "metadata": {},
   "outputs": [
    {
     "name": "stdout",
     "output_type": "stream",
     "text": [
      "input (trainX): tensor([[1.],\n",
      "        [1.],\n",
      "        [1.],\n",
      "        [1.],\n",
      "        [1.],\n",
      "        [1.],\n",
      "        [1.],\n",
      "        [2.],\n",
      "        [2.],\n",
      "        [2.],\n",
      "        [2.],\n",
      "        [2.],\n",
      "        [2.],\n",
      "        [2.],\n",
      "        [2.],\n",
      "        [2.],\n",
      "        [2.],\n",
      "        [2.],\n",
      "        [2.],\n",
      "        [2.]])\n",
      "outputs: tensor([1.9847], grad_fn=<SelectBackward0>)\n",
      "labels: tensor([2.])\n",
      "\n",
      "length input (trainX): 786\n",
      "length outputs: 793\n",
      "length labels: 786\n"
     ]
    }
   ],
   "source": [
    "val = 0\n",
    "\n",
    "print('input (trainX):', trainX[val])\n",
    "print('outputs:', outputs[val])\n",
    "print('labels:', trainY[val])\n",
    "\n",
    "print('')\n",
    "\n",
    "print('length input (trainX):', len(trainX))\n",
    "print('length outputs:', len(outputs))\n",
    "print('length labels:', len(trainY))"
   ]
  },
  {
   "cell_type": "code",
   "execution_count": 61,
   "id": "6b883570",
   "metadata": {},
   "outputs": [
    {
     "name": "stdout",
     "output_type": "stream",
     "text": [
      "tensor([[1.8788]], grad_fn=<AddmmBackward0>)\n"
     ]
    }
   ],
   "source": [
    "outputs = lstm(trainX[0:1])\n",
    "\n",
    "print(outputs)"
   ]
  },
  {
   "cell_type": "code",
   "execution_count": 62,
   "id": "8f6212d4",
   "metadata": {},
   "outputs": [
    {
     "name": "stdout",
     "output_type": "stream",
     "text": [
      "Epoch: 0, loss: 3.17150\n",
      "Epoch: 200, loss: 0.08768\n",
      "Epoch: 400, loss: 0.07592\n",
      "Epoch: 600, loss: 0.07221\n",
      "Epoch: 800, loss: 0.06931\n",
      "Epoch: 1000, loss: 0.06801\n",
      "Epoch: 1200, loss: 0.06784\n",
      "Epoch: 1400, loss: 0.06781\n",
      "Epoch: 1600, loss: 0.06779\n",
      "Epoch: 1800, loss: 0.06789\n"
     ]
    }
   ],
   "source": [
    "'''\n",
    "best value: 0.07111 (hidden size of 20) - but overall little to no diff.\n",
    "best value: 0.06789 (with a seq. length of 20)\n",
    "increasing the length of the sequence length concidered \n",
    "for making the next decision, the better the resulting prediction\n",
    "\n",
    "'''\n",
    "\n",
    "num_epochs = 2000\n",
    "learning_rate = 0.01\n",
    "\n",
    "input_size = 1\n",
    "hidden_size = 20\n",
    "num_layers = 1\n",
    "\n",
    "num_classes = 1\n",
    "\n",
    "lstm = LSTM(num_classes, input_size, hidden_size, num_layers)\n",
    "\n",
    "criterion = torch.nn.MSELoss() # MSELoss - regression, CrossEntropyLoss for labels\n",
    "optimizer = torch.optim.Adam(lstm.parameters(), lr=learning_rate)\n",
    "\n",
    "# Train the model\n",
    "for epoch in range(num_epochs):\n",
    "    outputs = lstm(trainX)\n",
    "    optimizer.zero_grad()\n",
    "    \n",
    "    # obtain the loss function\n",
    "    loss = criterion(outputs, trainY)\n",
    "    \n",
    "    loss.backward()\n",
    "    \n",
    "    optimizer.step()\n",
    "    if epoch % 200 == 0:\n",
    "        print(\"Epoch: %d, loss: %1.5f\" % (epoch, loss.item()))"
   ]
  },
  {
   "cell_type": "code",
   "execution_count": 63,
   "id": "7bc39a82",
   "metadata": {},
   "outputs": [
    {
     "data": {
      "image/png": "[encoded data removed]",
      "text/plain": [
       "<Figure size 432x288 with 1 Axes>"
      ]
     },
     "metadata": {
      "needs_background": "light"
     },
     "output_type": "display_data"
    }
   ],
   "source": [
    "lstm.eval()\n",
    "train_predict = lstm(dataX)\n",
    "\n",
    "data_predict = train_predict.data.numpy()\n",
    "dataY_plot = dataY.data.numpy()\n",
    "\n",
    "#data_predict = sc.inverse_transform(data_predict)\n",
    "#dataY_plot = sc.inverse_transform(dataY_plot)\n",
    "\n",
    "plt.axvline(x=train_size, c='r', linestyle='--')\n",
    "\n",
    "plt.plot(dataY_plot, 'o', markersize=10)\n",
    "plt.plot(data_predict, 'o', markersize=5)\n",
    "plt.suptitle('Time-Series Prediction')\n",
    "plt.show()"
   ]
  },
  {
   "cell_type": "code",
   "execution_count": 1,
   "id": "ef4c076e",
   "metadata": {},
   "outputs": [],
   "source": [
    "def oracle_actions():\n",
    "    # optimal action seq. for this maze only (seed 0)\n",
    "    # 0 - turn left, 1 - turn right, 2 - walk forwards, 3 - walk backwards\n",
    "    actions = []\n",
    "    actions = actions + [1]*7 # angle 270, current-pos: (2.16, 0.00, 7.49) - turn right\n",
    "    actions = actions + [2]*70 # angle 270, current-pos: (2.01, 0.00, 16.48) - walk forwards\n",
    "    actions = actions + [0]*6 # angle 83, current-pos: (1.98, 0.00, 17.98) - turn left\n",
    "    actions = actions + [2]*20 # angle 0,  current-pos: (4.98, 0.00, 18.04) - walk forwards\n",
    "    actions = actions + [1]*6 # angle 270, current-pos: (4.98, 0.00, 18.04) - turn right\n",
    "    actions = actions + [2]*40 # angle 270, current-pos: (4.88, 0.00, 24.03) - walk forwards\n",
    "    actions = actions + [0]*6 # angle 0, current-pos: (4.88, 0.00, 24.03) - turn left\n",
    "    actions = actions + [2]*20 # angle 0, current-pos: (7.88, 0.00, 24.09) - walk forwards\n",
    "    actions = actions + [0]*6 # angle 89, current-pos: (7.88, 0.00, 24.09) - turn left\n",
    "    actions = actions + [2]*20 # angle 89, current-pos: (7.93, 0.00, 21.09) - walk forwards\n",
    "    actions = actions + [1]*6 # angle 0, current-pos: (7.93, 0.00, 21.09)- turn right\n",
    "    actions = actions + [2]*20 # - walk forwards\n",
    "    actions = actions + [0]*6 #  - turn left\n",
    "    actions = actions + [2]*20 # - walk forwards\n",
    "    actions = actions + [0]*6 #  - turn left\n",
    "    actions = actions + [2]*20 # - walk forwards\n",
    "    actions = actions + [1]*6 # - turn right\n",
    "    actions = actions + [2]*50 # - walk forwards\n",
    "    actions = actions + [1]*6 # - turn right\n",
    "    actions = actions + [2]*20 # - walk forwards\n",
    "    actions = actions + [0]*6 #  - turn left\n",
    "    actions = actions + [2]*70 # - walk forwards\n",
    "    actions = actions + [1]*6 # - turn right\n",
    "    actions = actions + [2]*20 # - walk forwards\n",
    "    actions = actions + [1]*6 # - turn right\n",
    "    actions = actions + [2]*30 # - walk forwards\n",
    "    actions = actions + [0]*6 #  - turn left\n",
    "    actions = actions + [2]*20 # - walk forwards\n",
    "    actions = actions + [0]*6 #  - turn left\n",
    "    actions = actions + [2]*20 # - walk forwards\n",
    "    actions = actions + [1]*6 # - turn right\n",
    "    actions = actions + [2]*25 # - walk forwards\n",
    "    actions = actions + [1]*6 # - turn right\n",
    "    actions = actions + [2]*20 # - walk forwards\n",
    "    actions = actions + [0]*6 #  - turn left\n",
    "    actions = actions + [2]*20 # - walk forwards\n",
    "    actions = actions + [1]*6 # - turn right\n",
    "    actions = actions + [2]*20 # - walk forwards\n",
    "    actions = actions + [1]*6 # - turn right\n",
    "    actions = actions + [2]*20 # - walk forwards\n",
    "    actions = actions + [0]*6 #  - turn left\n",
    "    actions = actions + [2]*20 # - walk forwards\n",
    "    actions = actions + [1]*6 # - turn right\n",
    "    actions = actions + [2]*20 # - walk forwards\n",
    "    actions = actions + [0]*6 #  - turn left\n",
    "    actions = actions + [2]*45 # - walk forwards\n",
    "    actions = actions + [0]*6 # - turn right\n",
    "    actions = actions + [2]*20 # - walk forwards\n",
    "    actions = actions + [0]*6 #  - turn left\n",
    "    actions = actions + [2]*20 # - walk forwards\n",
    "    actions = actions + [1]*6 # - turn right\n",
    "    actions = actions + [2]*20 # - walk forwards\n",
    "    actions = actions + [1]*6 # - turn right\n",
    "    actions = actions + [2]*60 # - walk forwards\n",
    "    actions = actions + [1]*6 # - turn right\n",
    "    actions = actions + [2]*20 # - walk forwards\n",
    "    actions = actions + [1]*6 # - turn right\n",
    "    actions = actions + [2]*20 # - walk forwards\n",
    "    actions = actions + [0]*6 #  - turn left\n",
    "    actions = actions + [2]*20 # - walk forwards\n",
    "    actions = actions + [0]*6 #  - turn left\n",
    "    actions = actions + [2]*20 # - walk forwards\n",
    "    actions = actions + [1]*6 # - turn right\n",
    "    actions = actions + [2]*20 # - walk forwards\n",
    "    actions = actions + [1]*6 # - turn right\n",
    "    actions = actions + [2]*100 # - walk forwards\n",
    "    actions = actions + [1]*6 # - turn right\n",
    "    actions = actions + [2]*20 # - walk forwards\n",
    "\n",
    "    return actions"
   ]
  },
  {
   "cell_type": "code",
   "execution_count": 2,
   "id": "fd21dafd",
   "metadata": {},
   "outputs": [],
   "source": [
    "actions = oracle_actions()\n",
    "actions = [[i] for i in actions]"
   ]
  },
  {
   "cell_type": "code",
   "execution_count": null,
   "id": "d1c40f73",
   "metadata": {},
   "outputs": [],
   "source": []
  },
  {
   "cell_type": "code",
   "execution_count": null,
   "id": "aedf2470",
   "metadata": {},
   "outputs": [],
   "source": []
  }
 ],
 "metadata": {
  "kernelspec": {
   "display_name": "pytorch_m1",
   "language": "python",
   "name": "pytorch_m1"
  },
  "language_info": {
   "codemirror_mode": {
    "name": "ipython",
    "version": 3
   },
   "file_extension": ".py",
   "mimetype": "text/x-python",
   "name": "python",
   "nbconvert_exporter": "python",
   "pygments_lexer": "ipython3",
   "version": "3.8.13"
  }
 },
 "nbformat": 4,
 "nbformat_minor": 5
}
