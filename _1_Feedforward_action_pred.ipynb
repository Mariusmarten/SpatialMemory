{
 "cells": [
  {
   "cell_type": "markdown",
   "id": "5a3720e1",
   "metadata": {},
   "source": [
    "### Single-input Network - PyTorch\n",
    "\n",
    "Predicts the action given a single observation (checks whether the Dataset is 'difficult' to learn)"
   ]
  },
  {
   "cell_type": "markdown",
   "id": "191834b2",
   "metadata": {},
   "source": [
    "### Imports"
   ]
  },
  {
   "cell_type": "code",
   "execution_count": null,
   "id": "21debb9c",
   "metadata": {},
   "outputs": [],
   "source": [
    "\"\"\"\n",
    "Imports external and own libraries\n",
    "\"\"\"\n",
    "\n",
    "import pickle\n",
    "\n",
    "import torch\n",
    "import torch.nn as nn\n",
    "import torch.optim as optim\n",
    "from torchsummary import summary\n",
    "from torch.utils.data import Dataset, DataLoader\n",
    "\n",
    "from prettytable import PrettyTable\n",
    "\n",
    "# own\n",
    "import common.action as action\n",
    "import common.world as world\n",
    "import common.plot as plot\n",
    "import common.preprocess as preprocess\n",
    "import common.nets as nets\n",
    "import common.train as train\n",
    "import common.tools as tools"
   ]
  },
  {
   "cell_type": "markdown",
   "id": "ce5acea5",
   "metadata": {},
   "source": [
    "### Load datasets"
   ]
  },
  {
   "cell_type": "code",
   "execution_count": null,
   "id": "8a8e8dcc",
   "metadata": {},
   "outputs": [],
   "source": [
    "with open(\"datasets/oracle_data.pickle\", \"rb\") as handle:\n",
    "    oracle_data = pickle.load(handle)\n",
    "\n",
    "with open(\"datasets/oracle_reversed_data.pickle\", \"rb\") as handle:\n",
    "    oracle_reversed_data = pickle.load(handle)\n",
    "\n",
    "with open(\"datasets/oracle_random_data.pickle\", \"rb\") as handle:\n",
    "    oracle_random_data = pickle.load(handle)\n",
    "\n",
    "with open(\"datasets/oracle_reversed_random_data.pickle\", \"rb\") as handle:\n",
    "    oracle_reversed_random_data = pickle.load(handle)\n",
    "\n",
    "with open(\"datasets/random_data.pickle\", \"rb\") as handle:\n",
    "    random_data = pickle.load(handle)\n",
    "    \n",
    "with open(\"datasets/oracle_reversed_random_data_small.pickle\", \"rb\") as handle:\n",
    "    oracle_reversed_random_data_small = pickle.load(handle)\n",
    "\n",
    "with open(\"datasets/tmaze_random_reverse_data.pickle\", \"rb\") as handle:\n",
    "    tmaze_random_reverse_data = pickle.load(handle)"
   ]
  },
  {
   "cell_type": "markdown",
   "id": "4513fe06",
   "metadata": {},
   "source": [
    "### Preprocess data"
   ]
  },
  {
   "cell_type": "code",
   "execution_count": null,
   "id": "c23fd605",
   "metadata": {},
   "outputs": [],
   "source": [
    "data = oracle_reversed_random_data_small\n",
    "\n",
    "# split data\n",
    "train_data, test_data = preprocess.split_data(data, 0.8)\n",
    "\n",
    "# preprocess trainingset\n",
    "oracle_train_data = preprocess.ObtainDataset(train_data, \"observations\", \"actions\")\n",
    "oracle_test_data = preprocess.ObtainDataset(test_data, \"observations\", \"actions\")\n",
    "\n",
    "# build dataloader (tensor format)\n",
    "batch_size = 128\n",
    "dataset_loader_train_data = DataLoader(\n",
    "    oracle_train_data, batch_size=batch_size, shuffle=True\n",
    ")\n",
    "dataset_loader_test_data = DataLoader(\n",
    "    oracle_test_data, batch_size=batch_size, shuffle=True\n",
    ")"
   ]
  },
  {
   "cell_type": "code",
   "execution_count": null,
   "id": "81d3ba5a",
   "metadata": {},
   "outputs": [],
   "source": [
    "n = 4\n",
    "# change seq. length, recode actions, split dataset\n",
    "dataset = preprocess.split_n_steps_between(oracle_reversed_random_data_small, n=n)\n",
    "dataet, counter, translation_dict = preprocess.recode_actions(dataset, n)\n",
    "train_data, test_data = preprocess.split_data(dataset, 0.8)\n",
    "\n",
    "# preprocess trainingset\n",
    "oracle_train_data = preprocess.ObtainDualDataset(\n",
    "    train_data, \"observationsA\", \"observationsB\", \"actions\"\n",
    ")\n",
    "oracle_test_data = preprocess.ObtainDualDataset(\n",
    "    test_data, \"observationsA\", \"observationsB\", \"actions\"\n",
    ")\n",
    "\n",
    "# build dataloader (tensor format)\n",
    "batch_size = 128\n",
    "dataset_loader_train_data = DataLoader(\n",
    "    oracle_train_data, batch_size=batch_size, shuffle=True\n",
    ")\n",
    "dataset_loader_test_data = DataLoader(\n",
    "    oracle_test_data, batch_size=batch_size, shuffle=True\n",
    ")"
   ]
  },
  {
   "cell_type": "markdown",
   "id": "f757b3e9",
   "metadata": {},
   "source": [
    "### Visualize a batch of data (size 64)"
   ]
  },
  {
   "cell_type": "code",
   "execution_count": null,
   "id": "8f270934",
   "metadata": {},
   "outputs": [],
   "source": [
    "dataiter = iter(dataset_loader_train_data)\n",
    "images, labels = dataiter.next()\n",
    "plot.plot_64_observations(images)"
   ]
  },
  {
   "cell_type": "markdown",
   "id": "4db713a6",
   "metadata": {},
   "source": [
    "### Initialize the model"
   ]
  },
  {
   "cell_type": "code",
   "execution_count": null,
   "id": "a5780b81",
   "metadata": {},
   "outputs": [],
   "source": [
    "forward = nets.Forward(4)\n",
    "summary(forward, (3, 32, 32))"
   ]
  },
  {
   "cell_type": "markdown",
   "id": "f9ea7eb5",
   "metadata": {},
   "source": [
    "### Train model"
   ]
  },
  {
   "cell_type": "code",
   "execution_count": null,
   "id": "f8ed0edf",
   "metadata": {},
   "outputs": [],
   "source": [
    "criterion = nn.CrossEntropyLoss()\n",
    "optimizer = optim.Adam(\n",
    "    forward.parameters(), lr=0.001\n",
    ")  # , momentum=0.9) # for small one 0.01 works well\n",
    "\n",
    "episodes = 500\n",
    "forward, train_loss, test_loss, train_acc, test_acc = train.train_Feedforward(\n",
    "    dataset_loader_train_data,\n",
    "    dataset_loader_test_data,\n",
    "    forward,\n",
    "    criterion,\n",
    "    optimizer,\n",
    "    episodes,\n",
    ")"
   ]
  },
  {
   "cell_type": "markdown",
   "id": "fdf74b1b",
   "metadata": {},
   "source": [
    "### Plot loss and accuracy curves for training and test set"
   ]
  },
  {
   "cell_type": "code",
   "execution_count": null,
   "id": "4436f524",
   "metadata": {},
   "outputs": [],
   "source": [
    "plot.plot_losses(train_loss, test_loss)\n",
    "plot.plot_acc(train_acc, test_acc, smooth=True)"
   ]
  },
  {
   "cell_type": "markdown",
   "id": "c1dd427a",
   "metadata": {},
   "source": [
    "### Plot example classifications and plot confusion matrix"
   ]
  },
  {
   "cell_type": "code",
   "execution_count": null,
   "id": "4d09bed8",
   "metadata": {},
   "outputs": [],
   "source": [
    "plot.show_example_classificataions(dataset_loader_train_data, forward, amount=8)\n",
    "plot.plot_confusion_matrix(dataset_loader_train_data, forward)"
   ]
  },
  {
   "cell_type": "markdown",
   "id": "7950db84",
   "metadata": {},
   "source": [
    "### Save and load models"
   ]
  },
  {
   "cell_type": "code",
   "execution_count": null,
   "id": "b886f346",
   "metadata": {},
   "outputs": [],
   "source": [
    "# Save\n",
    "torch.save(model, \"models/Feedforward_Step1.pt\")\n",
    "\n",
    "# Load\n",
    "# model = torch.load('models/Feedforward.pt')\n",
    "# model.eval()"
   ]
  }
 ],
 "metadata": {
  "kernelspec": {
   "display_name": "Python 3 (ipykernel)",
   "language": "python",
   "name": "python3"
  },
  "language_info": {
   "codemirror_mode": {
    "name": "ipython",
    "version": 3
   },
   "file_extension": ".py",
   "mimetype": "text/x-python",
   "name": "python",
   "nbconvert_exporter": "python",
   "pygments_lexer": "ipython3",
   "version": "3.8.13"
  }
 },
 "nbformat": 4,
 "nbformat_minor": 5
}
