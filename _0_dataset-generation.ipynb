{
 "cells": [
  {
   "cell_type": "markdown",
   "id": "eae9ff50",
   "metadata": {},
   "source": [
    "# Dataset creation"
   ]
  },
  {
   "cell_type": "code",
   "execution_count": null,
   "id": "ce3fd592",
   "metadata": {},
   "outputs": [],
   "source": [
    "'''\n",
    "Install requirements\n",
    "'''\n",
    "\n",
    "!pip3 install -r requirements.txt\n",
    "!pip3 install prettytable"
   ]
  },
  {
   "cell_type": "code",
   "execution_count": 2,
   "id": "526fb26d",
   "metadata": {},
   "outputs": [
    {
     "name": "stderr",
     "output_type": "stream",
     "text": [
      "/Users/mariuskaestingschaefer/miniforge3/envs/pytorch/lib/python3.8/site-packages/seaborn/rcmod.py:82: DeprecationWarning: distutils Version classes are deprecated. Use packaging.version instead.\n",
      "  if LooseVersion(mpl.__version__) >= \"3.0\":\n",
      "/Users/mariuskaestingschaefer/miniforge3/envs/pytorch/lib/python3.8/site-packages/setuptools/_distutils/version.py:351: DeprecationWarning: distutils Version classes are deprecated. Use packaging.version instead.\n",
      "  other = LooseVersion(other)\n",
      "/Users/mariuskaestingschaefer/miniforge3/envs/pytorch/lib/python3.8/site-packages/torch/utils/tensorboard/__init__.py:6: DeprecationWarning: distutils Version classes are deprecated. Use packaging.version instead.\n",
      "  if not hasattr(tensorboard, '__version__') or LooseVersion(tensorboard.__version__) < LooseVersion('1.15'):\n"
     ]
    }
   ],
   "source": [
    "'''\n",
    "Imports external and own libraries\n",
    "'''\n",
    "\n",
    "import pickle\n",
    "\n",
    "\n",
    "import torch.nn as nn\n",
    "import torch.optim as optim\n",
    "from torchsummary import summary\n",
    "from torch.utils.data import DataLoader\n",
    "\n",
    "from prettytable import PrettyTable\n",
    "\n",
    "# own\n",
    "import common.action as action\n",
    "import common.world as world\n",
    "import common.plot as plot\n",
    "import common.preprocess as preprocess\n",
    "import common.nets as nets\n",
    "import common.train as train\n",
    "import common.tools as tools"
   ]
  },
  {
   "cell_type": "markdown",
   "id": "946b43f2",
   "metadata": {},
   "source": [
    "### Example to show the MiniWorld Environment"
   ]
  },
  {
   "cell_type": "code",
   "execution_count": null,
   "id": "7a8c4bf9",
   "metadata": {},
   "outputs": [],
   "source": [
    "'''\n",
    "Create and visualize the world\n",
    "'''\n",
    "env = world.init_env('MiniWorld-Maze-v0')\n",
    "plot.plot_obs_top_dep(env)\n",
    "world.print_env_parameters(env)\n",
    "\n",
    "env = world.init_env('MiniWorld-TMaze-v0')\n",
    "plot.plot_obs_top_dep(env)\n",
    "world.print_env_parameters(env)"
   ]
  },
  {
   "cell_type": "markdown",
   "id": "83126361",
   "metadata": {},
   "source": [
    "### Create datasets within the large Maze"
   ]
  },
  {
   "cell_type": "code",
   "execution_count": null,
   "id": "f4542e5e",
   "metadata": {},
   "outputs": [],
   "source": [
    "'''\n",
    "(1) Create Oracle dataset\n",
    "'''\n",
    "oracle_actions = action.oracle_actions()\n",
    "env = world.init_env('MiniWorld-Maze-v0')\n",
    "oracle_data = collector.collect(oracle_actions, env, img_size=32, show=False)\n",
    "\n",
    "with open('datasets/oracle_data.pickle', 'wb') as handle:\n",
    "    pickle.dump(oracle_data, handle, protocol=pickle.HIGHEST_PROTOCOL)\n",
    "\n",
    "'''\n",
    "(2) Create Oracle + reversed dataset\n",
    "'''\n",
    "oracle_actions = action.oracle_actions()\n",
    "env = world.init_env('MiniWorld-Maze-v0')\n",
    "reversed_actions = action.reverse_action_seq(oracle_actions)\n",
    "oracle_reversed_data = collector.collect(oracle_actions + reversed_actions, env, img_size=32, show=False)\n",
    "\n",
    "with open('datasets/oracle_reversed_data.pickle', 'wb') as handle:\n",
    "    pickle.dump(oracle_reversed_data, handle, protocol=pickle.HIGHEST_PROTOCOL)\n",
    "\n",
    "'''\n",
    "(3) Create Oracle dataset with random actions inbetween\n",
    "'''\n",
    "env = world.init_env('MiniWorld-Maze-v0')\n",
    "oracle_random_actions = action.add_randomness(oracle_actions, env)\n",
    "oracle_random_data = collector.collect(oracle_random_actions, env, img_size=32, show=False)\n",
    "\n",
    "with open('datasets/oracle_random_data.pickle', 'wb') as handle:\n",
    "    pickle.dump(oracle_random_data, handle, protocol=pickle.HIGHEST_PROTOCOL)\n",
    "    \n",
    "'''\n",
    "(4) Create Oracle dataset with random actions inbetween + reversed\n",
    "'''\n",
    "oracle_actions = action.oracle_actions()\n",
    "env = world.init_env('MiniWorld-Maze-v0')\n",
    "oracle_random_actions = action.add_randomness(oracle_actions, env)\n",
    "reversed_actions = action.reverse_action_seq(oracle_random_actions)\n",
    "oracle_reversed_random_data = collector.collect(oracle_random_actions + reversed_actions, env, img_size=32, show=False)\n",
    "\n",
    "with open('datasets/oracle_reversed_random_data.pickle', 'wb') as handle:\n",
    "    pickle.dump(oracle_reversed_random_data, handle, protocol=pickle.HIGHEST_PROTOCOL)\n",
    "\n",
    "'''\n",
    "(5) Create shortend Oracle dataset with random actions inbetween + reversed \n",
    "'''\n",
    "oracle_actions = action.oracle_actions()\n",
    "env = world.init_env('MiniWorld-Maze-v0')\n",
    "oracle_random_actions = action.add_randomness(oracle_actions[0:500], env, random_step_lenth=1)\n",
    "reversed_actions = action.reverse_action_seq(oracle_random_actions)\n",
    "oracle_reversed_random_data_small = collector.collect(oracle_random_actions + reversed_actions, env, img_size=32, show=False)\n",
    "\n",
    "with open('datasets/oracle_reversed_random_data_small.pickle', 'wb') as handle:\n",
    "    pickle.dump(oracle_reversed_random_data_small, handle, protocol=pickle.HIGHEST_PROTOCOL)\n",
    "\n",
    "'''\n",
    "(6) Create Random dataset\n",
    "'''\n",
    "env = world.init_env('MiniWorld-Maze-v0')\n",
    "random_act = action.random_actions(5000, env)\n",
    "random_data = collector.collect(random_act, env, img_size=32, show=False)\n",
    "\n",
    "with open('datasets/random_data.pickle', 'wb') as handle:\n",
    "    pickle.dump(random_data, handle, protocol=pickle.HIGHEST_PROTOCOL)\n"
   ]
  },
  {
   "cell_type": "markdown",
   "id": "8d09acb2",
   "metadata": {},
   "source": [
    "### Create datasets within the TMaze"
   ]
  },
  {
   "cell_type": "code",
   "execution_count": null,
   "id": "288188cc",
   "metadata": {},
   "outputs": [],
   "source": [
    "'''\n",
    "(7) Create Random dataset\n",
    "''' \n",
    "env = world.init_env('MiniWorld-TMaze-v0')\n",
    "random_seq = action.random_actions(2000, env)\n",
    "tmaze_random_data = collector.collect(random_seq, env, img_size=32, show=False)\n",
    "\n",
    "with open('datasets/tmaze_random_data.pickle', 'wb') as handle:\n",
    "    pickle.dump(tmaze_random_data, handle, protocol=pickle.HIGHEST_PROTOCOL)\n",
    "    \n",
    "'''\n",
    "(8) Create Random dataset\n",
    "'''    \n",
    "\n",
    "env = world.init_env('MiniWorld-TMaze-v0')\n",
    "tmaze_random_reverse_data = collector.collect(actions, env, img_size=32, show=False)\n",
    "\n",
    "with open('datasets/tmaze_random_reverse_data.pickle', 'wb') as handle:\n",
    "    pickle.dump(tmaze_random_reverse_data, handle, protocol=pickle.HIGHEST_PROTOCOL)"
   ]
  },
  {
   "cell_type": "markdown",
   "id": "61716bef",
   "metadata": {},
   "source": [
    "### Load datasets"
   ]
  },
  {
   "cell_type": "code",
   "execution_count": 3,
   "id": "b4a95d90",
   "metadata": {},
   "outputs": [],
   "source": [
    "'''\n",
    "Load data with pickle (deserialize)\n",
    "'''\n",
    "\n",
    "'''\n",
    "(1) Load Oracle dataset\n",
    "'''\n",
    "with open('datasets/oracle_data.pickle', 'rb') as handle:\n",
    "    oracle_data = pickle.load(handle)\n",
    "\n",
    "'''\n",
    "(2) Load Oracle + reversed dataset\n",
    "'''\n",
    "with open('datasets/oracle_reversed_data.pickle', 'rb') as handle:\n",
    "    oracle_reversed_data = pickle.load(handle)\n",
    "\n",
    "'''\n",
    "(3) Load Oracle dataset with random actions inbetween\n",
    "'''\n",
    "with open('datasets/oracle_random_data.pickle', 'rb') as handle:\n",
    "    oracle_random_data = pickle.load(handle)\n",
    "\n",
    "'''\n",
    "(4) Load Oracle dataset with random actions inbetween + reversed\n",
    "'''\n",
    "with open('datasets/oracle_reversed_random_data.pickle', 'rb') as handle:\n",
    "    oracle_reversed_random_data = pickle.load(handle)\n",
    "\n",
    "'''\n",
    "(5) Load Oracle dataset with random actions inbetween + reversed\n",
    "'''\n",
    "with open('datasets/oracle_reversed_random_data_small.pickle', 'rb') as handle:\n",
    "    oracle_reversed_random_data_small = pickle.load(handle)\n",
    "\n",
    "'''\n",
    "(6) Load Random dataset (random walk on the large map)\n",
    "'''\n",
    "with open('datasets/random_data.pickle', 'rb') as handle:\n",
    "    random_data = pickle.load(handle)\n",
    "\n",
    "'''\n",
    "(7) Load Random dataset (random walk on the large map)\n",
    "'''\n",
    "with open('datasets/tmaze_random_data.pickle', 'rb') as handle:\n",
    "    tmaze_random_data = pickle.load(handle)\n",
    "    \n",
    "'''\n",
    "(8) Load Random dataset (random walk on the large map)\n",
    "'''\n",
    "with open('datasets/tmaze_random_reverse_data.pickle', 'rb') as handle:\n",
    "    tmaze_random_reverse_data = pickle.load(handle)\n"
   ]
  },
  {
   "cell_type": "markdown",
   "id": "a2931aa9",
   "metadata": {},
   "source": [
    "### Example to visualize the data contained in each dataset"
   ]
  },
  {
   "cell_type": "code",
   "execution_count": null,
   "id": "32616d51",
   "metadata": {},
   "outputs": [],
   "source": [
    "print(random_data.keys())\n",
    "plot.plot_3x3_examples(random_data)"
   ]
  },
  {
   "cell_type": "code",
   "execution_count": null,
   "id": "bd7538cf",
   "metadata": {},
   "outputs": [],
   "source": [
    "'''\n",
    "Use Turtle to plot the agents trajectory. \n",
    "A gif making function\n",
    "'''\n",
    "\n",
    "oracle_actions = action.oracle_actions()\n",
    "plot.turtle_tracing(oracle_actions)\n",
    "plot.save_gif_of_sequence(oracle_actions)"
   ]
  },
  {
   "cell_type": "markdown",
   "id": "991787c0",
   "metadata": {},
   "source": [
    "### Compare datasets"
   ]
  },
  {
   "cell_type": "code",
   "execution_count": 5,
   "id": "87060f18",
   "metadata": {},
   "outputs": [
    {
     "name": "stdout",
     "output_type": "stream",
     "text": [
      "Large environment\n",
      "+---------------------------------------+--------+--------------------------+-------------------+\n",
      "| Dataset Name                          | Length |       Distribution       |    Environment    |\n",
      "+---------------------------------------+--------+--------------------------+-------------------+\n",
      "| Oracle data                           |  1195  |      [90, 115, 990]      | MiniWorld-Maze-v0 |\n",
      "| Oracle data + reversed                |  2390  |   [205, 205, 990, 990]   | MiniWorld-Maze-v0 |\n",
      "| Oracle data + random                  |  8365  | [2478, 2503, 2187, 1197] | MiniWorld-Maze-v0 |\n",
      "| Oracle data + random + reversed       | 16730  | [5041, 5041, 3324, 3324] | MiniWorld-Maze-v0 |\n",
      "| Oracle small data + random + reversed |  3000  |   [738, 738, 762, 762]   | MiniWorld-Maze-v0 |\n",
      "| Random                                |  5000  |    [1693, 1690, 1617]    | MiniWorld-Maze-v0 |\n",
      "+---------------------------------------+--------+--------------------------+-------------------+ \n",
      "\n",
      "TMaze environment\n",
      "+--------------------------------------+--------+----------------------+--------------------+\n",
      "| Dataset Name                         | Length |     Distribution     |    Environment     |\n",
      "+--------------------------------------+--------+----------------------+--------------------+\n",
      "| Random exporation forwards           |  2000  |   [677, 653, 670]    | MiniWorld-TMaze-v0 |\n",
      "| Random exporation forwards+backwards |  2000  | [507, 485, 512, 496] | MiniWorld-TMaze-v0 |\n",
      "+--------------------------------------+--------+----------------------+--------------------+\n"
     ]
    }
   ],
   "source": [
    "'''\n",
    "Compare different datasets\n",
    "'''\n",
    "\n",
    "# print(str(count_actions(oracle_reversed_random_data)))\n",
    "\n",
    "print('Large environment')\n",
    "myTable = PrettyTable([\"Dataset Name\", \"Length\", \"Distribution\", \"Environment\"])\n",
    "myTable.align[\"Dataset Name\"] = \"l\"\n",
    "myTable.add_row([\"Oracle data\", len(oracle_data['actions']), str(tools.count_actions(oracle_data)), 'MiniWorld-Maze-v0'])\n",
    "myTable.add_row([\"Oracle data + reversed\", len(oracle_reversed_data['actions']), str(tools.count_actions(oracle_reversed_data)), 'MiniWorld-Maze-v0'])\n",
    "myTable.add_row([\"Oracle data + random\", len(oracle_random_data['actions']), str(tools.count_actions(oracle_random_data)), 'MiniWorld-Maze-v0'])\n",
    "myTable.add_row([\"Oracle data + random + reversed\", len(oracle_reversed_random_data['actions']), str(tools.count_actions(oracle_reversed_random_data)), 'MiniWorld-Maze-v0'])\n",
    "myTable.add_row([\"Oracle small data + random + reversed\", len(oracle_reversed_random_data_small['actions']), str(tools.count_actions(oracle_reversed_random_data_small)), 'MiniWorld-Maze-v0'])\n",
    "myTable.add_row([\"Random\", len(random_data['actions']), str(tools.count_actions(random_data)), 'MiniWorld-Maze-v0'])\n",
    "print(myTable, '\\n')\n",
    "\n",
    "print('TMaze environment')\n",
    "myTable = PrettyTable([\"Dataset Name\", \"Length\", \"Distribution\", \"Environment\"])\n",
    "myTable.align[\"Dataset Name\"] = \"l\"\n",
    "myTable.add_row([\"Random exporation forwards\", len(tmaze_random_data['actions']), str(tools.count_actions(tmaze_random_data)), 'MiniWorld-TMaze-v0'])\n",
    "myTable.add_row([\"Random exporation forwards+backwards\", len(tmaze_random_reverse_data['actions']), str(tools.count_actions(tmaze_random_reverse_data)), 'MiniWorld-TMaze-v0'])\n",
    "print(myTable)"
   ]
  },
  {
   "cell_type": "code",
   "execution_count": null,
   "id": "cfda503d",
   "metadata": {},
   "outputs": [],
   "source": []
  }
 ],
 "metadata": {
  "kernelspec": {
   "display_name": "Python 3 (ipykernel)",
   "language": "python",
   "name": "python3"
  },
  "language_info": {
   "codemirror_mode": {
    "name": "ipython",
    "version": 3
   },
   "file_extension": ".py",
   "mimetype": "text/x-python",
   "name": "python",
   "nbconvert_exporter": "python",
   "pygments_lexer": "ipython3",
   "version": "3.8.13"
  }
 },
 "nbformat": 4,
 "nbformat_minor": 5
}
