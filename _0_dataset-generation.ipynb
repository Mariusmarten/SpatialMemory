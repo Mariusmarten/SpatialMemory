{
 "cells": [
  {
   "cell_type": "markdown",
   "id": "eae9ff50",
   "metadata": {},
   "source": [
    "# Dataset creation"
   ]
  },
  {
   "cell_type": "code",
   "execution_count": null,
   "id": "ce3fd592",
   "metadata": {},
   "outputs": [],
   "source": [
    "\"\"\"\n",
    "Install requirements\n",
    "\"\"\"\n",
    "\n",
    "!pip3 install -r requirements.txt\n",
    "!pip3 install prettytable"
   ]
  },
  {
   "cell_type": "code",
   "execution_count": 1,
   "id": "526fb26d",
   "metadata": {},
   "outputs": [
    {
     "name": "stderr",
     "output_type": "stream",
     "text": [
      "/Users/mariuskaestingschaefer/miniforge3/envs/pytorch/lib/python3.8/site-packages/seaborn/rcmod.py:82: DeprecationWarning: distutils Version classes are deprecated. Use packaging.version instead.\n",
      "  if LooseVersion(mpl.__version__) >= \"3.0\":\n",
      "/Users/mariuskaestingschaefer/miniforge3/envs/pytorch/lib/python3.8/site-packages/setuptools/_distutils/version.py:351: DeprecationWarning: distutils Version classes are deprecated. Use packaging.version instead.\n",
      "  other = LooseVersion(other)\n",
      "/Users/mariuskaestingschaefer/miniforge3/envs/pytorch/lib/python3.8/site-packages/torch/utils/tensorboard/__init__.py:6: DeprecationWarning: distutils Version classes are deprecated. Use packaging.version instead.\n",
      "  if not hasattr(tensorboard, '__version__') or LooseVersion(tensorboard.__version__) < LooseVersion('1.15'):\n"
     ]
    }
   ],
   "source": [
    "\"\"\"\n",
    "Imports external and own libraries\n",
    "\"\"\"\n",
    "\n",
    "import pickle\n",
    "\n",
    "\n",
    "import torch.nn as nn\n",
    "import torch.optim as optim\n",
    "from torchsummary import summary\n",
    "from torch.utils.data import DataLoader\n",
    "\n",
    "from prettytable import PrettyTable\n",
    "\n",
    "# own\n",
    "import common.action as action\n",
    "import common.world as world\n",
    "import common.plot as plot\n",
    "import common.preprocess as preprocess\n",
    "import common.nets as nets\n",
    "import common.train as train\n",
    "import common.tools as tools"
   ]
  },
  {
   "cell_type": "markdown",
   "id": "946b43f2",
   "metadata": {},
   "source": [
    "### Example to show the MiniWorld Environment"
   ]
  },
  {
   "cell_type": "code",
   "execution_count": null,
   "id": "7a8c4bf9",
   "metadata": {},
   "outputs": [],
   "source": [
    "\"\"\"\n",
    "Create and visualize the world\n",
    "\"\"\"\n",
    "env = world.init_env(\"MiniWorld-Maze-v0\")\n",
    "plot.plot_obs_top_dep(env)\n",
    "world.print_env_parameters(env)\n",
    "\n",
    "env = world.init_env(\"MiniWorld-TMaze-v0\")\n",
    "plot.plot_obs_top_dep(env)\n",
    "world.print_env_parameters(env)"
   ]
  },
  {
   "cell_type": "markdown",
   "id": "83126361",
   "metadata": {},
   "source": [
    "### Create datasets within the large Maze"
   ]
  },
  {
   "cell_type": "code",
   "execution_count": null,
   "id": "f4542e5e",
   "metadata": {},
   "outputs": [],
   "source": [
    "\"\"\"\n",
    "(1) Create Oracle dataset\n",
    "\"\"\"\n",
    "oracle_actions = action.oracle_actions()\n",
    "env = world.init_env(\"MiniWorld-Maze-v0\")\n",
    "oracle_data = collector.collect(oracle_actions, env, img_size=32, show=False)\n",
    "\n",
    "with open(\"datasets/oracle_data.pickle\", \"wb\") as handle:\n",
    "    pickle.dump(oracle_data, handle, protocol=pickle.HIGHEST_PROTOCOL)\n",
    "\n",
    "\"\"\"\n",
    "(2) Create Oracle + reversed dataset\n",
    "\"\"\"\n",
    "oracle_actions = action.oracle_actions()\n",
    "env = world.init_env(\"MiniWorld-Maze-v0\")\n",
    "reversed_actions = action.reverse_action_seq(oracle_actions)\n",
    "oracle_reversed_data = collector.collect(\n",
    "    oracle_actions + reversed_actions, env, img_size=32, show=False\n",
    ")\n",
    "\n",
    "with open(\"datasets/oracle_reversed_data.pickle\", \"wb\") as handle:\n",
    "    pickle.dump(oracle_reversed_data, handle, protocol=pickle.HIGHEST_PROTOCOL)\n",
    "\n",
    "\"\"\"\n",
    "(3) Create Oracle dataset with random actions inbetween\n",
    "\"\"\"\n",
    "env = world.init_env(\"MiniWorld-Maze-v0\")\n",
    "oracle_random_actions = action.add_randomness(oracle_actions, env)\n",
    "oracle_random_data = collector.collect(\n",
    "    oracle_random_actions, env, img_size=32, show=False\n",
    ")\n",
    "\n",
    "with open(\"datasets/oracle_random_data.pickle\", \"wb\") as handle:\n",
    "    pickle.dump(oracle_random_data, handle, protocol=pickle.HIGHEST_PROTOCOL)\n",
    "\n",
    "\"\"\"\n",
    "(4) Create Oracle dataset with random actions inbetween + reversed\n",
    "\"\"\"\n",
    "oracle_actions = action.oracle_actions()\n",
    "env = world.init_env(\"MiniWorld-Maze-v0\")\n",
    "oracle_random_actions = action.add_randomness(oracle_actions, env)\n",
    "reversed_actions = action.reverse_action_seq(oracle_random_actions)\n",
    "oracle_reversed_random_data = collector.collect(\n",
    "    oracle_random_actions + reversed_actions, env, img_size=32, show=False\n",
    ")\n",
    "\n",
    "with open(\"datasets/oracle_reversed_random_data.pickle\", \"wb\") as handle:\n",
    "    pickle.dump(oracle_reversed_random_data, handle, protocol=pickle.HIGHEST_PROTOCOL)\n",
    "\n",
    "\"\"\"\n",
    "(5) Create shortend Oracle dataset with random actions inbetween + reversed \n",
    "\"\"\"\n",
    "oracle_actions = action.oracle_actions()\n",
    "env = world.init_env(\"MiniWorld-Maze-v0\")\n",
    "oracle_random_actions = action.add_randomness(\n",
    "    oracle_actions[0:500], env, random_step_lenth=1\n",
    ")\n",
    "reversed_actions = action.reverse_action_seq(oracle_random_actions)\n",
    "oracle_reversed_random_data_small = collector.collect(\n",
    "    oracle_random_actions + reversed_actions, env, img_size=32, show=False\n",
    ")\n",
    "\n",
    "with open(\"datasets/oracle_reversed_random_data_small.pickle\", \"wb\") as handle:\n",
    "    pickle.dump(\n",
    "        oracle_reversed_random_data_small, handle, protocol=pickle.HIGHEST_PROTOCOL\n",
    "    )\n",
    "\n",
    "\"\"\"\n",
    "(6) Create Random dataset\n",
    "\"\"\"\n",
    "env = world.init_env(\"MiniWorld-Maze-v0\")\n",
    "random_act = action.random_actions(5000, env)\n",
    "random_data = collector.collect(random_act, env, img_size=32, show=False)\n",
    "\n",
    "with open(\"datasets/random_data.pickle\", \"wb\") as handle:\n",
    "    pickle.dump(random_data, handle, protocol=pickle.HIGHEST_PROTOCOL)"
   ]
  },
  {
   "cell_type": "markdown",
   "id": "8d09acb2",
   "metadata": {},
   "source": [
    "### Create datasets within the TMaze"
   ]
  },
  {
   "cell_type": "code",
   "execution_count": null,
   "id": "288188cc",
   "metadata": {},
   "outputs": [],
   "source": [
    "\"\"\"\n",
    "(7) Create Random dataset\n",
    "\"\"\"\n",
    "env = world.init_env(\"MiniWorld-TMaze-v0\")\n",
    "random_seq = action.random_actions(2000, env)\n",
    "tmaze_random_data = collector.collect(random_seq, env, img_size=32, show=False)\n",
    "\n",
    "with open(\"datasets/tmaze_random_data.pickle\", \"wb\") as handle:\n",
    "    pickle.dump(tmaze_random_data, handle, protocol=pickle.HIGHEST_PROTOCOL)\n",
    "\n",
    "\"\"\"\n",
    "(8) Create Random dataset\n",
    "\"\"\"\n",
    "\n",
    "env = world.init_env(\"MiniWorld-TMaze-v0\")\n",
    "tmaze_random_reverse_data = collector.collect(actions, env, img_size=32, show=False)\n",
    "\n",
    "with open(\"datasets/tmaze_random_reverse_data.pickle\", \"wb\") as handle:\n",
    "    pickle.dump(tmaze_random_reverse_data, handle, protocol=pickle.HIGHEST_PROTOCOL)"
   ]
  },
  {
   "cell_type": "markdown",
   "id": "61716bef",
   "metadata": {},
   "source": [
    "### Load datasets"
   ]
  },
  {
   "cell_type": "code",
   "execution_count": 2,
   "id": "b4a95d90",
   "metadata": {},
   "outputs": [],
   "source": [
    "\"\"\"\n",
    "Load data with pickle (deserialize)\n",
    "\"\"\"\n",
    "\n",
    "\"\"\"\n",
    "(1) Load Oracle dataset\n",
    "\"\"\"\n",
    "with open(\"datasets/oracle_data.pickle\", \"rb\") as handle:\n",
    "    oracle_data = pickle.load(handle)\n",
    "\n",
    "\"\"\"\n",
    "(2) Load Oracle + reversed dataset\n",
    "\"\"\"\n",
    "with open(\"datasets/oracle_reversed_data.pickle\", \"rb\") as handle:\n",
    "    oracle_reversed_data = pickle.load(handle)\n",
    "\n",
    "\"\"\"\n",
    "(3) Load Oracle dataset with random actions inbetween\n",
    "\"\"\"\n",
    "with open(\"datasets/oracle_random_data.pickle\", \"rb\") as handle:\n",
    "    oracle_random_data = pickle.load(handle)\n",
    "\n",
    "\"\"\"\n",
    "(4) Load Oracle dataset with random actions inbetween + reversed\n",
    "\"\"\"\n",
    "with open(\"datasets/oracle_reversed_random_data.pickle\", \"rb\") as handle:\n",
    "    oracle_reversed_random_data = pickle.load(handle)\n",
    "\n",
    "\"\"\"\n",
    "(5) Load Oracle dataset with random actions inbetween + reversed\n",
    "\"\"\"\n",
    "with open(\"datasets/oracle_reversed_random_data_small.pickle\", \"rb\") as handle:\n",
    "    oracle_reversed_random_data_small = pickle.load(handle)\n",
    "\n",
    "\"\"\"\n",
    "(6) Load Random dataset (random walk on the large map)\n",
    "\"\"\"\n",
    "with open(\"datasets/random_data.pickle\", \"rb\") as handle:\n",
    "    random_data = pickle.load(handle)\n",
    "\n",
    "\"\"\"\n",
    "(7) Load Random dataset (random walk on the large map)\n",
    "\"\"\"\n",
    "with open(\"datasets/tmaze_random_data.pickle\", \"rb\") as handle:\n",
    "    tmaze_random_data = pickle.load(handle)\n",
    "\n",
    "\"\"\"\n",
    "(8) Load Random dataset (random walk on the large map)\n",
    "\"\"\"\n",
    "with open(\"datasets/tmaze_random_reverse_data.pickle\", \"rb\") as handle:\n",
    "    tmaze_random_reverse_data = pickle.load(handle)"
   ]
  },
  {
   "cell_type": "markdown",
   "id": "a2931aa9",
   "metadata": {},
   "source": [
    "### Example to visualize the data contained in each dataset"
   ]
  },
  {
   "cell_type": "code",
   "execution_count": 3,
   "id": "32616d51",
   "metadata": {},
   "outputs": [
    {
     "name": "stdout",
     "output_type": "stream",
     "text": [
      "dict_keys(['actions', 'positions', 'angles', 'observations', 'top_views', 'depth_imgs'])\n"
     ]
    },
    {
     "data": {
      "image/png": "[encoded data removed]",
      "text/plain": [
       "<Figure size 1152x936 with 9 Axes>"
      ]
     },
     "metadata": {
      "needs_background": "light"
     },
     "output_type": "display_data"
    }
   ],
   "source": [
    "print(random_data.keys())\n",
    "plot.plot_3x3_examples(random_data)"
   ]
  },
  {
   "cell_type": "code",
   "execution_count": null,
   "id": "bd7538cf",
   "metadata": {},
   "outputs": [],
   "source": [
    "\"\"\"\n",
    "Use Turtle to plot the agents trajectory. \n",
    "A gif making function\n",
    "\"\"\"\n",
    "\n",
    "oracle_actions = action.oracle_actions()\n",
    "plot.turtle_tracing(oracle_actions)\n",
    "plot.save_gif_of_sequence(oracle_actions)"
   ]
  },
  {
   "cell_type": "markdown",
   "id": "991787c0",
   "metadata": {},
   "source": [
    "### Compare datasets"
   ]
  },
  {
   "cell_type": "code",
   "execution_count": 4,
   "id": "87060f18",
   "metadata": {
    "scrolled": true
   },
   "outputs": [
    {
     "name": "stdout",
     "output_type": "stream",
     "text": [
      "Large environment\n",
      "+---------------------------------------+--------+--------------------------+-------------------+\n",
      "| Dataset Name                          | Length |       Distribution       |    Environment    |\n",
      "+---------------------------------------+--------+--------------------------+-------------------+\n",
      "| Oracle data                           |  1195  |      [90, 115, 990]      | MiniWorld-Maze-v0 |\n",
      "| Oracle data + reversed                |  2390  |   [205, 205, 990, 990]   | MiniWorld-Maze-v0 |\n",
      "| Oracle data + random                  |  8365  | [2478, 2503, 2187, 1197] | MiniWorld-Maze-v0 |\n",
      "| Oracle data + random + reversed       | 16730  | [5041, 5041, 3324, 3324] | MiniWorld-Maze-v0 |\n",
      "| Oracle small data + random + reversed |  3000  |   [738, 738, 762, 762]   | MiniWorld-Maze-v0 |\n",
      "| Random                                |  5000  |    [1693, 1690, 1617]    | MiniWorld-Maze-v0 |\n",
      "+---------------------------------------+--------+--------------------------+-------------------+ \n",
      "\n",
      "TMaze environment\n",
      "+--------------------------------------+--------+----------------------+--------------------+\n",
      "| Dataset Name                         | Length |     Distribution     |    Environment     |\n",
      "+--------------------------------------+--------+----------------------+--------------------+\n",
      "| Random exporation forwards           |  2000  |   [677, 653, 670]    | MiniWorld-TMaze-v0 |\n",
      "| Random exporation forwards+backwards |  2000  | [507, 485, 512, 496] | MiniWorld-TMaze-v0 |\n",
      "+--------------------------------------+--------+----------------------+--------------------+\n"
     ]
    }
   ],
   "source": [
    "\"\"\"\n",
    "Compare different datasets\n",
    "\"\"\"\n",
    "\n",
    "# print(str(count_actions(oracle_reversed_random_data)))\n",
    "\n",
    "print(\"Large environment\")\n",
    "myTable = PrettyTable([\"Dataset Name\", \"Length\", \"Distribution\", \"Environment\"])\n",
    "myTable.align[\"Dataset Name\"] = \"l\"\n",
    "myTable.add_row(\n",
    "    [\n",
    "        \"Oracle data\",\n",
    "        len(oracle_data[\"actions\"]),\n",
    "        str(tools.count_actions(oracle_data)),\n",
    "        \"MiniWorld-Maze-v0\",\n",
    "    ]\n",
    ")\n",
    "myTable.add_row(\n",
    "    [\n",
    "        \"Oracle data + reversed\",\n",
    "        len(oracle_reversed_data[\"actions\"]),\n",
    "        str(tools.count_actions(oracle_reversed_data)),\n",
    "        \"MiniWorld-Maze-v0\",\n",
    "    ]\n",
    ")\n",
    "myTable.add_row(\n",
    "    [\n",
    "        \"Oracle data + random\",\n",
    "        len(oracle_random_data[\"actions\"]),\n",
    "        str(tools.count_actions(oracle_random_data)),\n",
    "        \"MiniWorld-Maze-v0\",\n",
    "    ]\n",
    ")\n",
    "myTable.add_row(\n",
    "    [\n",
    "        \"Oracle data + random + reversed\",\n",
    "        len(oracle_reversed_random_data[\"actions\"]),\n",
    "        str(tools.count_actions(oracle_reversed_random_data)),\n",
    "        \"MiniWorld-Maze-v0\",\n",
    "    ]\n",
    ")\n",
    "myTable.add_row(\n",
    "    [\n",
    "        \"Oracle small data + random + reversed\",\n",
    "        len(oracle_reversed_random_data_small[\"actions\"]),\n",
    "        str(tools.count_actions(oracle_reversed_random_data_small)),\n",
    "        \"MiniWorld-Maze-v0\",\n",
    "    ]\n",
    ")\n",
    "myTable.add_row(\n",
    "    [\n",
    "        \"Random\",\n",
    "        len(random_data[\"actions\"]),\n",
    "        str(tools.count_actions(random_data)),\n",
    "        \"MiniWorld-Maze-v0\",\n",
    "    ]\n",
    ")\n",
    "print(myTable, \"\\n\")\n",
    "\n",
    "print(\"TMaze environment\")\n",
    "myTable = PrettyTable([\"Dataset Name\", \"Length\", \"Distribution\", \"Environment\"])\n",
    "myTable.align[\"Dataset Name\"] = \"l\"\n",
    "myTable.add_row(\n",
    "    [\n",
    "        \"Random exporation forwards\",\n",
    "        len(tmaze_random_data[\"actions\"]),\n",
    "        str(tools.count_actions(tmaze_random_data)),\n",
    "        \"MiniWorld-TMaze-v0\",\n",
    "    ]\n",
    ")\n",
    "myTable.add_row(\n",
    "    [\n",
    "        \"Random exporation forwards+backwards\",\n",
    "        len(tmaze_random_reverse_data[\"actions\"]),\n",
    "        str(tools.count_actions(tmaze_random_reverse_data)),\n",
    "        \"MiniWorld-TMaze-v0\",\n",
    "    ]\n",
    ")\n",
    "print(myTable)"
   ]
  },
  {
   "cell_type": "code",
   "execution_count": 6,
   "id": "cfda503d",
   "metadata": {},
   "outputs": [
    {
     "name": "stdout",
     "output_type": "stream",
     "text": [
      "STEP  1\n"
     ]
    },
    {
     "ename": "NameError",
     "evalue": "name 'test_data' is not defined",
     "output_type": "error",
     "traceback": [
      "\u001b[0;31m---------------------------------------------------------------------------\u001b[0m",
      "\u001b[0;31mNameError\u001b[0m                                 Traceback (most recent call last)",
      "Input \u001b[0;32mIn [6]\u001b[0m, in \u001b[0;36m<cell line: 24>\u001b[0;34m()\u001b[0m\n\u001b[1;32m     27\u001b[0m dataset \u001b[38;5;241m=\u001b[39m preprocess\u001b[38;5;241m.\u001b[39msplit_n_steps_between(oracle_reversed_random_data_small, n\u001b[38;5;241m=\u001b[39mi)\n\u001b[1;32m     29\u001b[0m \u001b[38;5;28mprint\u001b[39m(\u001b[38;5;124m'\u001b[39m\u001b[38;5;124mSTEP \u001b[39m\u001b[38;5;124m'\u001b[39m, \u001b[38;5;28mstr\u001b[39m(i))\n\u001b[0;32m---> 30\u001b[0m \u001b[43mshow_information\u001b[49m\u001b[43m(\u001b[49m\u001b[43mdataset\u001b[49m\u001b[43m)\u001b[49m\n\u001b[1;32m     31\u001b[0m \u001b[38;5;28mprint\u001b[39m(\u001b[38;5;124m'\u001b[39m\u001b[38;5;124m \u001b[39m\u001b[38;5;124m'\u001b[39m)\n",
      "Input \u001b[0;32mIn [6]\u001b[0m, in \u001b[0;36mshow_information\u001b[0;34m(dataset)\u001b[0m\n\u001b[1;32m      3\u001b[0m \u001b[38;5;28;01mdef\u001b[39;00m \u001b[38;5;21mshow_information\u001b[39m(dataset):\n\u001b[1;32m      5\u001b[0m     actions \u001b[38;5;241m=\u001b[39m []\n\u001b[0;32m----> 6\u001b[0m     \u001b[38;5;28;01mfor\u001b[39;00m element \u001b[38;5;129;01min\u001b[39;00m \u001b[43mtest_data\u001b[49m[\u001b[38;5;124m'\u001b[39m\u001b[38;5;124mactions\u001b[39m\u001b[38;5;124m'\u001b[39m]:\n\u001b[1;32m      7\u001b[0m         actions\u001b[38;5;241m.\u001b[39mappend(\u001b[38;5;28mstr\u001b[39m(element[:]))\n\u001b[1;32m      9\u001b[0m     \u001b[38;5;28mprint\u001b[39m(\u001b[38;5;28mlen\u001b[39m(\u001b[38;5;28mset\u001b[39m(actions)))\n",
      "\u001b[0;31mNameError\u001b[0m: name 'test_data' is not defined"
     ]
    }
   ],
   "source": [
    "from collections import Counter\n",
    "\n",
    "\"\"\"\n",
    "Show the distributions for the different trajectory lengths (dataset diversity)\n",
    "\"\"\"\n",
    "\n",
    "\n",
    "def show_information(dataset):\n",
    "\n",
    "    actions = []\n",
    "    for element in test_data[\"actions\"]:\n",
    "        actions.append(str(element[:]))\n",
    "\n",
    "    print(len(set(actions)))\n",
    "    count = Counter(actions)\n",
    "    print(count)\n",
    "\n",
    "    plt.rcParams[\"figure.figsize\"] = 10, 5.5\n",
    "    with plt.style.context(\"ggplot\"):\n",
    "        plt.bar(range(len(count)), count.values(), color=\"tab:blue\")\n",
    "        string = \"Action seq. distribution for \" + str(i) + \" steps\"\n",
    "        plt.title(string, fontsize=22)\n",
    "        plt.xlabel(\"Sequences\", fontsize=18)\n",
    "        plt.ylabel(\"Occurance\", fontsize=16)\n",
    "        plt.legend(fontsize=18)\n",
    "        label = \"tmaze_random_reverse_data\" + str(i) + \".png\"\n",
    "        plt.show()\n",
    "\n",
    "\n",
    "for i in range(1, 5):\n",
    "    with open(\"datasets/oracle_reversed_random_data_small.pickle\", \"rb\") as handle:\n",
    "        oracle_reversed_random_data_small = pickle.load(handle)\n",
    "    dataset = preprocess.split_n_steps_between(oracle_reversed_random_data_small, n=i)\n",
    "\n",
    "    print(\"STEP \", str(i))\n",
    "    show_information(dataset)\n",
    "    print(\" \")"
   ]
  },
  {
   "cell_type": "code",
   "execution_count": null,
   "id": "58c03cd7",
   "metadata": {},
   "outputs": [],
   "source": [
    "\"\"\"\n",
    "Preprocess images (Normalize inputs)\n",
    "\"\"\"\n",
    "\n",
    "transform = transforms.Compose([transforms.ToPILImage(), transforms.ToTensor()])\n",
    "\n",
    "dataloader = torch.utils.data.DataLoader(\n",
    "    oracle_train_data, batch_size=4096, shuffle=False, num_workers=4\n",
    ")\n",
    "\n",
    "pop_mean = []\n",
    "pop_std0 = []\n",
    "pop_std1 = []\n",
    "for i, data in enumerate(dataloader, 0):\n",
    "    # shape (batch_size, 3, height, width)\n",
    "    numpy_image = data[\"image\"].numpy()\n",
    "\n",
    "    # shape (3,)\n",
    "    batch_mean = np.mean(numpy_image, axis=(0, 2, 3))\n",
    "    batch_std0 = np.std(numpy_image, axis=(0, 2, 3))\n",
    "    batch_std1 = np.std(numpy_image, axis=(0, 2, 3), ddof=1)\n",
    "\n",
    "    pop_mean.append(batch_mean)\n",
    "    pop_std0.append(batch_std0)\n",
    "    pop_std1.append(batch_std1)\n",
    "\n",
    "# shape (num_iterations, 3) -> (mean across 0th axis) -> shape (3,)\n",
    "pop_mean = np.array(pop_mean).mean(axis=0)\n",
    "pop_std0 = np.array(pop_std0).mean(axis=0)\n",
    "pop_std1 = np.array(pop_std1).mean(axis=0)"
   ]
  }
 ],
 "metadata": {
  "kernelspec": {
   "display_name": "Python 3 (ipykernel)",
   "language": "python",
   "name": "python3"
  },
  "language_info": {
   "codemirror_mode": {
    "name": "ipython",
    "version": 3
   },
   "file_extension": ".py",
   "mimetype": "text/x-python",
   "name": "python",
   "nbconvert_exporter": "python",
   "pygments_lexer": "ipython3",
   "version": "3.8.13"
  }
 },
 "nbformat": 4,
 "nbformat_minor": 5
}
