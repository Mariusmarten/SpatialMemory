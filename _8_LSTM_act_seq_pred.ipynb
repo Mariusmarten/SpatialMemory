{
 "cells": [
  {
   "cell_type": "code",
   "execution_count": 133,
   "id": "ed9963b4",
   "metadata": {},
   "outputs": [],
   "source": [
    "import pickle\n",
    "\n",
    "import numpy as np\n",
    "import matplotlib.pyplot as plt\n",
    "import pandas as pd\n",
    "import random\n",
    "\n",
    "import torch\n",
    "import torch.nn as nn\n",
    "import torch.nn.functional as Func\n",
    "from torch.autograd import Variable\n",
    "from torchinfo import summary\n",
    "\n",
    "from sklearn.preprocessing import MinMaxScaler"
   ]
  },
  {
   "cell_type": "code",
   "execution_count": 116,
   "id": "0abbd215",
   "metadata": {},
   "outputs": [],
   "source": [
    "with open(\"datasets/oracle_data.pickle\", \"rb\") as handle:\n",
    "    oracle_data = pickle.load(handle)\n",
    "\n",
    "with open(\"datasets/oracle_reversed_data.pickle\", \"rb\") as handle:\n",
    "    oracle_reversed_data = pickle.load(handle)\n",
    "\n",
    "with open(\"datasets/oracle_random_data.pickle\", \"rb\") as handle:\n",
    "    oracle_random_data = pickle.load(handle)\n",
    "\n",
    "with open(\"datasets/oracle_reversed_random_data.pickle\", \"rb\") as handle:\n",
    "    oracle_reversed_random_data = pickle.load(handle)\n",
    "\n",
    "with open(\"datasets/random_data.pickle\", \"rb\") as handle:\n",
    "    random_data = pickle.load(handle)\n",
    "\n",
    "with open(\"datasets/tmaze_random_reverse_data.pickle\", \"rb\") as handle:\n",
    "    tmaze_random_reverse_data = pickle.load(handle)\n",
    "\n",
    "with open(\"datasets/oracle_reversed_random_data_small.pickle\", \"rb\") as handle:\n",
    "    oracle_reversed_random_data_small = pickle.load(handle)"
   ]
  },
  {
   "cell_type": "code",
   "execution_count": 117,
   "id": "cbdf6d6d",
   "metadata": {},
   "outputs": [],
   "source": [
    "actions = oracle_reversed_data['actions']\n",
    "actions = [[i] for i in actions]"
   ]
  },
  {
   "cell_type": "code",
   "execution_count": 118,
   "id": "1cea49ca",
   "metadata": {},
   "outputs": [
    {
     "data": {
      "image/png": "[encoded data removed]",
      "text/plain": [
       "<Figure size 432x288 with 1 Axes>"
      ]
     },
     "metadata": {
      "needs_background": "light"
     },
     "output_type": "display_data"
    }
   ],
   "source": [
    "plt.plot(actions, \"o\")\n",
    "plt.show()"
   ]
  },
  {
   "cell_type": "code",
   "execution_count": 119,
   "id": "53e570c2",
   "metadata": {},
   "outputs": [],
   "source": [
    "def sliding_windows(data, seq_length):\n",
    "    x = []\n",
    "    y = []\n",
    "\n",
    "    for i in range(len(data) - seq_length - 1):\n",
    "        _x = data[i : (i + seq_length)]\n",
    "        _y = data[i + seq_length]  # _y = data[i+seq_length] (target)\n",
    "        x.append(_x)\n",
    "        y.append(_y)\n",
    "\n",
    "    return np.array(x), np.array(y)  # train, val. data\n",
    "\n",
    "training_data = actions\n",
    "\n",
    "\n",
    "seq_length = 4\n",
    "x, y = sliding_windows(training_data, seq_length)\n",
    "\n",
    "\n",
    "\n",
    "# one method of performing the training and validation split\n",
    "train_size = int(len(y) * 0.80)\n",
    "test_size = len(y) - train_size\n",
    "\n",
    "\n",
    "# shuffle data first before splitting\n",
    "idx_shuf = list(range(len(y)))\n",
    "random.shuffle(idx_shuf)\n",
    "x = [x[i] for i in idx_shuf]\n",
    "y = [y[i] for i in idx_shuf]\n",
    "\n",
    "# split data\n",
    "dataX = Variable(torch.Tensor(np.array(x)))\n",
    "dataY = Variable(torch.Tensor(np.array(y)))\n",
    "\n",
    "trainX = Variable(torch.Tensor(np.array(x[0:train_size])))\n",
    "trainY = Variable(torch.Tensor(np.array(y[0:train_size])))\n",
    "\n",
    "testX = Variable(torch.Tensor(np.array(x[train_size : len(x)])))\n",
    "testY = Variable(torch.Tensor(np.array(y[train_size : len(y)])))"
   ]
  },
  {
   "cell_type": "code",
   "execution_count": 120,
   "id": "295ebeb4",
   "metadata": {},
   "outputs": [
    {
     "name": "stdout",
     "output_type": "stream",
     "text": [
      "sequence: [[0]\n",
      " [0]\n",
      " [0]\n",
      " [0]]\n",
      "label: [0]\n"
     ]
    }
   ],
   "source": [
    "k = 6\n",
    "print('sequence:', x[k])\n",
    "print('label:', y[k])"
   ]
  },
  {
   "cell_type": "code",
   "execution_count": 121,
   "id": "4140e51a",
   "metadata": {},
   "outputs": [],
   "source": [
    "class LSTM(nn.Module):\n",
    "    def __init__(self, num_classes, input_size, hidden_size, num_layers):\n",
    "        super(LSTM, self).__init__()\n",
    "\n",
    "        self.num_classes = num_classes\n",
    "        self.num_layers = num_layers\n",
    "        self.input_size = input_size\n",
    "        self.hidden_size = hidden_size\n",
    "        self.seq_length = seq_length\n",
    "\n",
    "        self.lstm = nn.LSTM(\n",
    "            input_size=input_size,\n",
    "            hidden_size=hidden_size,\n",
    "            num_layers=num_layers,\n",
    "            batch_first=True,\n",
    "        )\n",
    "\n",
    "        self.fc = nn.Linear(hidden_size, num_classes)\n",
    "\n",
    "    def forward(self, x):\n",
    "        h_0 = Variable(torch.zeros(self.num_layers, x.size(0), self.hidden_size))\n",
    "        c_0 = Variable(torch.zeros(self.num_layers, x.size(0), self.hidden_size))\n",
    "\n",
    "        # Propagate input through LSTM\n",
    "        ula, (h_out, _) = self.lstm(x, (h_0, c_0))\n",
    "        h_out = h_out.view(-1, self.hidden_size)\n",
    "        out = self.fc(h_out)\n",
    "\n",
    "        return out"
   ]
  },
  {
   "cell_type": "code",
   "execution_count": 158,
   "id": "a11e1b5f",
   "metadata": {},
   "outputs": [
    {
     "name": "stdout",
     "output_type": "stream",
     "text": [
      "input length: 4\n",
      "input (trainX): tensor([[[0.],\n",
      "         [0.],\n",
      "         [0.],\n",
      "         [3.]]])\n",
      "tensor([[-2.3725, -4.2009,  1.3206,  3.8579]], grad_fn=<AddmmBackward0>)\n",
      "outputs: tensor([[-2.3725, -4.2009,  1.3206,  3.8579]], grad_fn=<AddmmBackward0>)\n",
      "output rounded: tensor([3])\n",
      "labels: tensor([[3.]])\n",
      "\n",
      "length input (trainX): 1908\n",
      "length outputs: 1908\n",
      "length labels: 1908\n",
      "\n",
      "SUMMARY LSTM \n",
      " ==========================================================================================\n",
      "Layer (type:depth-idx)                   Output Shape              Param #\n",
      "==========================================================================================\n",
      "LSTM                                     [1908, 4]                 --\n",
      "├─LSTM: 1-1                              [1908, 1, 20]             1,840\n",
      "├─Linear: 1-2                            [1908, 4]                 84\n",
      "==========================================================================================\n",
      "Total params: 1,924\n",
      "Trainable params: 1,924\n",
      "Non-trainable params: 0\n",
      "Total mult-adds (M): 3.67\n",
      "==========================================================================================\n",
      "Input size (MB): 0.01\n",
      "Forward/backward pass size (MB): 0.37\n",
      "Params size (MB): 0.01\n",
      "Estimated Total Size (MB): 0.38\n",
      "==========================================================================================\n"
     ]
    }
   ],
   "source": [
    "value = 0\n",
    "\n",
    "test_input = trainX[value:value+1]\n",
    "print(\"input length:\", len(test_input[0]))\n",
    "print(\"input (trainX):\", test_input)\n",
    "\n",
    "outputs = lstm(test_input)\n",
    "print(outputs)\n",
    "\n",
    "print(\"outputs:\", outputs)\n",
    "_, rounded_opt = torch.max(outputs, 1)\n",
    "print(\"output rounded:\", rounded_opt)\n",
    "print(\"labels:\", trainY[value:value+1])\n",
    "\n",
    "print(\"\")\n",
    "\n",
    "outputs = lstm(trainX)\n",
    "\n",
    "print(\"length input (trainX):\", len(trainX))\n",
    "print(\"length outputs:\", len(outputs))\n",
    "print(\"length labels:\", len(trainY))\n",
    "\n",
    "print(\"\")\n",
    "print(\"SUMMARY LSTM \\n\", summary(lstm, (1908, 1, 1), device=\"cpu\"))"
   ]
  },
  {
   "cell_type": "code",
   "execution_count": 123,
   "id": "692f1518",
   "metadata": {},
   "outputs": [
    {
     "name": "stdout",
     "output_type": "stream",
     "text": [
      "Epoch: 0, train loss: 1.38772, train acc: 0.41719, test loss: 1.39202, test acc: 0.40671\n",
      "Epoch: 100, train loss: 0.95848, train acc: 0.78407, test loss: 0.91675, test acc: 0.80294\n",
      "Epoch: 200, train loss: 0.58726, train acc: 0.77044, test loss: 0.53965, test acc: 0.78616\n",
      "Epoch: 300, train loss: 0.44197, train acc: 0.86792, test loss: 0.38710, test acc: 0.90356\n",
      "Epoch: 400, train loss: 0.38609, train acc: 0.86792, test loss: 0.33607, test acc: 0.90356\n",
      "Epoch: 500, train loss: 0.34559, train acc: 0.90304, test loss: 0.30319, test acc: 0.92872\n",
      "Epoch: 600, train loss: 0.31171, train acc: 0.91667, test loss: 0.27529, test acc: 0.93711\n",
      "Epoch: 700, train loss: 0.28920, train acc: 0.93239, test loss: 0.25608, test acc: 0.94340\n",
      "Epoch: 800, train loss: 0.27529, train acc: 0.93920, test loss: 0.24497, test acc: 0.95597\n",
      "Epoch: 900, train loss: 0.26647, train acc: 0.93920, test loss: 0.23752, test acc: 0.95597\n",
      "Epoch: 1000, train loss: 0.26033, train acc: 0.93920, test loss: 0.23148, test acc: 0.95597\n",
      "Epoch: 1100, train loss: 0.25557, train acc: 0.93920, test loss: 0.22694, test acc: 0.95597\n",
      "Epoch: 1200, train loss: 0.25170, train acc: 0.93920, test loss: 0.22350, test acc: 0.95597\n",
      "Epoch: 1300, train loss: 0.24836, train acc: 0.93920, test loss: 0.22045, test acc: 0.95597\n",
      "Epoch: 1400, train loss: 0.24533, train acc: 0.93920, test loss: 0.21745, test acc: 0.95597\n",
      "Epoch: 1500, train loss: 0.24269, train acc: 0.93920, test loss: 0.21476, test acc: 0.95597\n",
      "Epoch: 1600, train loss: 0.24049, train acc: 0.93920, test loss: 0.21254, test acc: 0.95597\n",
      "Epoch: 1700, train loss: 0.23863, train acc: 0.93920, test loss: 0.21056, test acc: 0.95597\n",
      "Epoch: 1800, train loss: 0.23704, train acc: 0.93920, test loss: 0.20871, test acc: 0.95597\n",
      "Epoch: 1900, train loss: 0.23568, train acc: 0.93920, test loss: 0.20698, test acc: 0.95597\n"
     ]
    }
   ],
   "source": [
    "\"\"\"\n",
    "best value: 0.07111 (hidden size of 20) - but overall little to no diff.\n",
    "best value: 0.06789 (with a seq. length of 20)\n",
    "increasing the length of the sequence length concidered \n",
    "for making the next decision, the better the resulting prediction\n",
    "\n",
    "\"\"\"\n",
    "\n",
    "num_epochs = 2000\n",
    "learning_rate = 0.001\n",
    "\n",
    "input_size = 1\n",
    "hidden_size = 20\n",
    "num_layers = 1\n",
    "\n",
    "num_classes = 4\n",
    "\n",
    "lstm = LSTM(num_classes, input_size, hidden_size, num_layers)\n",
    "\n",
    "#criterion = torch.nn.MSELoss()  # MSELoss - regression, CrossEntropyLoss for labels\n",
    "criterion = torch.nn.CrossEntropyLoss()\n",
    "optimizer = torch.optim.Adam(lstm.parameters(), lr=learning_rate)\n",
    "\n",
    "# Train the model\n",
    "for epoch in range(num_epochs):\n",
    "    \n",
    "    train_correct = 0\n",
    "    train_total = 0\n",
    "    \n",
    "    optimizer.zero_grad()\n",
    "    outputs = lstm(trainX)\n",
    "    labels = trainY.to(torch.long)\n",
    "    labels = labels[:, 0]\n",
    "    \n",
    "    loss = criterion(outputs, labels)\n",
    "    loss.backward()\n",
    "    \n",
    "    # compute train acc\n",
    "    _, predicted = torch.max(outputs.data, 1)\n",
    "    correct = (predicted == labels).sum().item()\n",
    "    train_acc = correct / len(trainX)\n",
    "    \n",
    "    # compute test acc\n",
    "    with torch.no_grad():\n",
    "        outputs = lstm(testX)\n",
    "        labels = testY.to(torch.long)\n",
    "        labels = labels[:, 0]\n",
    "        \n",
    "        loss_test = criterion(outputs, labels)\n",
    "        \n",
    "        _, predicted = torch.max(outputs.data, 1)\n",
    "        correct = (predicted == labels).sum().item()\n",
    "        test_acc = correct / len(testX)\n",
    "\n",
    "    optimizer.step()\n",
    "    if epoch % (num_epochs/20) == 0:\n",
    "        print(\"Epoch: %d, train loss: %1.5f, train acc: %1.5f, test loss: %1.5f, test acc: %1.5f\" % (epoch, loss.item(), train_acc, loss_test.item(), test_acc))"
   ]
  },
  {
   "cell_type": "code",
   "execution_count": 124,
   "id": "428de005",
   "metadata": {},
   "outputs": [
    {
     "name": "stdout",
     "output_type": "stream",
     "text": [
      "477\n",
      "2385\n"
     ]
    },
    {
     "ename": "RuntimeError",
     "evalue": "The size of tensor a (477) must match the size of tensor b (2385) at non-singleton dimension 0",
     "output_type": "error",
     "traceback": [
      "\u001b[0;31m---------------------------------------------------------------------------\u001b[0m",
      "\u001b[0;31mRuntimeError\u001b[0m                              Traceback (most recent call last)",
      "Input \u001b[0;32mIn [124]\u001b[0m, in \u001b[0;36m<cell line: 7>\u001b[0;34m()\u001b[0m\n\u001b[1;32m      4\u001b[0m labels \u001b[38;5;241m=\u001b[39m dataY\u001b[38;5;241m.\u001b[39mto(torch\u001b[38;5;241m.\u001b[39mlong)\n\u001b[1;32m      5\u001b[0m labels \u001b[38;5;241m=\u001b[39m labels[:, \u001b[38;5;241m0\u001b[39m]\n\u001b[0;32m----> 7\u001b[0m incorrect \u001b[38;5;241m=\u001b[39m [\u001b[43mpredicted\u001b[49m\u001b[43m \u001b[49m\u001b[38;5;241;43m==\u001b[39;49m\u001b[43m \u001b[49m\u001b[43mlabels\u001b[49m]\n\u001b[1;32m      8\u001b[0m incorrect \u001b[38;5;241m=\u001b[39m incorrect[\u001b[38;5;241m0\u001b[39m]\u001b[38;5;241m.\u001b[39mtolist()\n",
      "\u001b[0;31mRuntimeError\u001b[0m: The size of tensor a (477) must match the size of tensor b (2385) at non-singleton dimension 0"
     ]
    }
   ],
   "source": [
    "\n",
    "\n",
    "print(len(predicted))\n",
    "print(len(dataY))\n",
    "\n",
    "labels = dataY.to(torch.long)\n",
    "labels = labels[:, 0]\n",
    "\n",
    "incorrect = [predicted == labels]\n",
    "incorrect = incorrect[0].tolist()"
   ]
  },
  {
   "cell_type": "code",
   "execution_count": 132,
   "id": "e8468409",
   "metadata": {},
   "outputs": [
    {
     "data": {
      "image/png": "[encoded data removed]",
      "text/plain": [
       "<Figure size 864x504 with 1 Axes>"
      ]
     },
     "metadata": {},
     "output_type": "display_data"
    }
   ],
   "source": [
    "lstm.eval()\n",
    "predict = lstm(dataX) # all data\n",
    "\n",
    "_, predicted = torch.max(predict, 1)\n",
    "data_predict = predicted.data.numpy()\n",
    "\n",
    "dataY_plot = dataY.data.numpy()\n",
    "\n",
    "plt.rcParams['axes.titlepad'] = 13 \n",
    "plt.rcParams['xtick.major.pad']='8' # axis distance\n",
    "plt.rcParams['ytick.major.pad']='8'\n",
    "\n",
    "with plt.style.context(\"seaborn-darkgrid\"):\n",
    "    plt.figure(figsize=(12, 7))\n",
    "    plt.rcParams.update({\"font.size\": 24})\n",
    "    plt.axvline(x=train_size, c=\"r\", linestyle=\"--\")\n",
    "\n",
    "    plt.plot(dataY_plot, \"o\", color='firebrick', markersize=10, label=\"actual\")\n",
    "    plt.plot(data_predict, \"o\", color=\"slategray\", markersize=5, label=\"predicted\")\n",
    "    \n",
    "    plt.yticks([0, 1, 2], ['Left', 'Right', 'Forward'])\n",
    "\n",
    "    # plt.legend(['Training Acc', 'Validation Acc'])\n",
    "    #plt.legend(loc=\"lower right\")\n",
    "    plt.legend(bbox_to_anchor=(1.05, 1), loc='upper left')\n",
    "    plt.title(\"Action sequence prediction\")\n",
    "    plt.xlabel(\"Sequence\")\n",
    "    plt.ylabel(\"Action\")\n",
    "    plt.show()"
   ]
  },
  {
   "cell_type": "code",
   "execution_count": null,
   "id": "504a2d1c",
   "metadata": {},
   "outputs": [],
   "source": []
  }
 ],
 "metadata": {
  "kernelspec": {
   "display_name": "pytorch_m1",
   "language": "python",
   "name": "pytorch_m1"
  },
  "language_info": {
   "codemirror_mode": {
    "name": "ipython",
    "version": 3
   },
   "file_extension": ".py",
   "mimetype": "text/x-python",
   "name": "python",
   "nbconvert_exporter": "python",
   "pygments_lexer": "ipython3",
   "version": "3.8.13"
  }
 },
 "nbformat": 4,
 "nbformat_minor": 5
}
