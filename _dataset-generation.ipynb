{
 "cells": [
  {
   "cell_type": "markdown",
   "id": "eae9ff50",
   "metadata": {},
   "source": [
    "### Dataset creation"
   ]
  },
  {
   "cell_type": "code",
   "execution_count": null,
   "id": "ce3fd592",
   "metadata": {},
   "outputs": [],
   "source": [
    "'''\n",
    "Install requirements\n",
    "'''\n",
    "\n",
    "!pip3 install -r requirements.txt\n",
    "!pip3 install prettytable"
   ]
  },
  {
   "cell_type": "code",
   "execution_count": null,
   "id": "526fb26d",
   "metadata": {},
   "outputs": [],
   "source": [
    "'''\n",
    "Imports external and own libraries\n",
    "'''\n",
    "\n",
    "import pickle\n",
    "\n",
    "import torch.nn as nn\n",
    "import torch.optim as optim\n",
    "from torchsummary import summary\n",
    "from torch.utils.data import DataLoader\n",
    "\n",
    "from prettytable import PrettyTable\n",
    "\n",
    "# own\n",
    "import collector\n",
    "import action\n",
    "import world\n",
    "import plot\n",
    "import preprocess\n",
    "import nets\n",
    "import train"
   ]
  },
  {
   "cell_type": "code",
   "execution_count": null,
   "id": "7a8c4bf9",
   "metadata": {},
   "outputs": [],
   "source": [
    "'''\n",
    "Create and visualize the world\n",
    "'''\n",
    "env = world.init_env('MiniWorld-Maze-v0')\n",
    "plot.plot_obs_top_dep(env)\n",
    "world.print_env_parameters(env)"
   ]
  },
  {
   "cell_type": "code",
   "execution_count": null,
   "id": "f4542e5e",
   "metadata": {},
   "outputs": [],
   "source": [
    "'''\n",
    "Create Oracle dataset\n",
    "'''\n",
    "oracle_actions = action.oracle_actions()\n",
    "env = world.init_env('MiniWorld-Maze-v0')\n",
    "oracle_data = collector.collect(oracle_actions, env, img_size=32, show=False)\n",
    "\n",
    "with open('datasets/oracle_data.pickle', 'wb') as handle:\n",
    "    pickle.dump(oracle_data, handle, protocol=pickle.HIGHEST_PROTOCOL)\n",
    "\n",
    "'''\n",
    "Create Oracle + reversed dataset\n",
    "'''\n",
    "oracle_actions = action.oracle_actions()\n",
    "env = world.init_env('MiniWorld-Maze-v0')\n",
    "reversed_actions = action.reverse_action_seq(oracle_actions)\n",
    "oracle_reversed_data = collector.collect(oracle_actions + reversed_actions, env, img_size=32, show=False)\n",
    "\n",
    "with open('datasets/oracle_reversed_data.pickle', 'wb') as handle:\n",
    "    pickle.dump(oracle_reversed_data, handle, protocol=pickle.HIGHEST_PROTOCOL)\n",
    "\n",
    "'''\n",
    "Create Oracle dataset with random actions inbetween\n",
    "'''\n",
    "env = world.init_env('MiniWorld-Maze-v0')\n",
    "oracle_random_actions = action.add_randomness(oracle_actions, env)\n",
    "oracle_random_data = collector.collect(oracle_random_actions, env, img_size=32, show=False)\n",
    "\n",
    "with open('datasets/oracle_random_data.pickle', 'wb') as handle:\n",
    "    pickle.dump(oracle_random_data, handle, protocol=pickle.HIGHEST_PROTOCOL)\n",
    "    \n",
    "'''\n",
    "Create Oracle dataset with random actions inbetween + reversed\n",
    "'''\n",
    "oracle_actions = action.oracle_actions()\n",
    "env = world.init_env('MiniWorld-Maze-v0')\n",
    "oracle_random_actions = action.add_randomness(oracle_actions, env)\n",
    "reversed_actions = action.reverse_action_seq(oracle_random_actions)\n",
    "oracle_reversed_random_data = collector.collect(oracle_random_actions + reversed_actions, env, img_size=32, show=False)\n",
    "\n",
    "with open('datasets/oracle_reversed_random_data.pickle', 'wb') as handle:\n",
    "    pickle.dump(oracle_reversed_random_data, handle, protocol=pickle.HIGHEST_PROTOCOL)\n",
    "    \n",
    "'''\n",
    "Random dataset\n",
    "'''\n",
    "env = world.init_env('MiniWorld-Maze-v0')\n",
    "random_act = action.random_actions(5000, env)\n",
    "random_data = collector.collect(random_act, env, img_size=32, show=False)\n",
    "\n",
    "with open('datasets/random_data.pickle', 'wb') as handle:\n",
    "    pickle.dump(random_data, handle, protocol=pickle.HIGHEST_PROTOCOL)\n"
   ]
  },
  {
   "cell_type": "code",
   "execution_count": null,
   "id": "6984d2fa",
   "metadata": {},
   "outputs": [],
   "source": [
    "\n"
   ]
  },
  {
   "cell_type": "code",
   "execution_count": null,
   "id": "b4a95d90",
   "metadata": {},
   "outputs": [],
   "source": [
    "'''\n",
    "Load data with pickle (deserialize)\n",
    "'''\n",
    "with open('datasets/oracle_data.pickle', 'rb') as handle:\n",
    "    oracle_data = pickle.load(handle)\n",
    "\n",
    "with open('datasets/oracle_reversed_data.pickle', 'rb') as handle:\n",
    "    oracle_reversed_data = pickle.load(handle)\n",
    "\n",
    "with open('datasets/oracle_random_data.pickle', 'rb') as handle:\n",
    "    oracle_random_data = pickle.load(handle)\n",
    "\n",
    "with open('datasets/oracle_reversed_random_data.pickle', 'rb') as handle:\n",
    "    oracle_reversed_random_data = pickle.load(handle)\n",
    "    \n",
    "with open('datasets/random_data.pickle', 'rb') as handle:\n",
    "    random_data = pickle.load(handle)"
   ]
  },
  {
   "cell_type": "code",
   "execution_count": null,
   "id": "32616d51",
   "metadata": {},
   "outputs": [],
   "source": [
    "print(random_data.keys())\n",
    "plot.plot_3x3_examples(random_data)"
   ]
  },
  {
   "cell_type": "code",
   "execution_count": null,
   "id": "bd7538cf",
   "metadata": {},
   "outputs": [],
   "source": [
    "'''\n",
    "Use Turtle to plot the agents trajectory. \n",
    "A gif making function\n",
    "'''\n",
    "oracle_actions = action.oracle_actions()\n",
    "plot.turtle_tracing(oracle_actions)\n",
    "plot.save_gif_of_sequence(oracle_actions)"
   ]
  },
  {
   "cell_type": "code",
   "execution_count": null,
   "id": "87060f18",
   "metadata": {},
   "outputs": [],
   "source": [
    "'''\n",
    "Compare different datasets\n",
    "'''\n",
    "def count_actions(data):\n",
    "    count = []\n",
    "    for i in set(data['actions']):\n",
    "        count.append(data['actions'].count(i))\n",
    "    return count\n",
    "\n",
    "myTable = PrettyTable([\"Dataset Name\", \"Length\", \"Distribution\", \"Environment\"])\n",
    "myTable.align[\"Dataset Name\"] = \"l\"\n",
    "\n",
    "# Add rows\n",
    "myTable.add_row([\"Oracle data\", len(oracle_data['actions']), str(count_actions(oracle_data)), 'MiniWorld-Maze-v0'])\n",
    "myTable.add_row([\"Oracle data + reversed\", len(oracle_reversed_data['actions']), str(count_actions(oracle_reversed_data)), 'MiniWorld-Maze-v0'])\n",
    "myTable.add_row([\"Oracle data + random\", len(oracle_random_data['actions']), str(count_actions(oracle_random_data)), 'MiniWorld-Maze-v0'])\n",
    "myTable.add_row([\"Oracle data + random + reversed\", len(oracle_reversed_random_data['actions']), str(count_actions(oracle_reversed_random_data)), 'MiniWorld-Maze-v0'])\n",
    "myTable.add_row([\"Random\", len(random_data['actions']), str(count_actions(random_data)), 'MiniWorld-Maze-v0'])\n",
    "\n",
    "print(myTable)"
   ]
  }
 ],
 "metadata": {
  "kernelspec": {
   "display_name": "Python 3 (ipykernel)",
   "language": "python",
   "name": "python3"
  },
  "language_info": {
   "codemirror_mode": {
    "name": "ipython",
    "version": 3
   },
   "file_extension": ".py",
   "mimetype": "text/x-python",
   "name": "python",
   "nbconvert_exporter": "python",
   "pygments_lexer": "ipython3",
   "version": "3.8.13"
  }
 },
 "nbformat": 4,
 "nbformat_minor": 5
}
