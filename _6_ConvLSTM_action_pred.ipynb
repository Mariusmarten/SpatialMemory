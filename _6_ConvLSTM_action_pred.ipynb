{
 "cells": [
  {
   "cell_type": "markdown",
   "id": "c4231cfd",
   "metadata": {},
   "source": [
    "# Convolutional LSTM for action prediction\n",
    "\n",
    "- keep track of best validation value + Save checkpoints with information (autosave)\n",
    "- clean naming (of how models are saved, configs are saved, runs are called)\n",
    "- confusion matrix of result\n",
    "- wandb/ tensorboard integration (also for gradient information?)\n",
    "- hydra integration for hyperparameters?"
   ]
  },
  {
   "cell_type": "markdown",
   "id": "51a15971",
   "metadata": {},
   "source": [
    "### Imports"
   ]
  },
  {
   "cell_type": "code",
   "execution_count": 14,
   "id": "7b40d4c7",
   "metadata": {},
   "outputs": [],
   "source": [
    "import pickle\n",
    "import hydra\n",
    "import numpy as np\n",
    "\n",
    "import torch\n",
    "import torch.nn as nn\n",
    "import torch.optim as optim\n",
    "import torch.nn.functional as F\n",
    "\n",
    "from torch.utils.data import Dataset, DataLoader\n",
    "from torchinfo import summary\n",
    "\n",
    "from tqdm.auto import tqdm\n",
    "\n",
    "# own\n",
    "import common.action as action\n",
    "import common.world as world\n",
    "import common.plot as plot\n",
    "import common.preprocess as preprocess\n",
    "import common.nets as nets\n",
    "import common.train as train\n",
    "import common.tools as tools"
   ]
  },
  {
   "cell_type": "markdown",
   "id": "d309342f",
   "metadata": {},
   "source": [
    "### Load datasets"
   ]
  },
  {
   "cell_type": "code",
   "execution_count": 5,
   "id": "c755f857",
   "metadata": {},
   "outputs": [],
   "source": [
    "with open('datasets/oracle_data.pickle', 'rb') as handle:\n",
    "    oracle_data = pickle.load(handle)\n",
    "\n",
    "with open('datasets/oracle_reversed_data.pickle', 'rb') as handle:\n",
    "    oracle_reversed_data = pickle.load(handle)\n",
    "\n",
    "with open('datasets/oracle_random_data.pickle', 'rb') as handle:\n",
    "    oracle_random_data = pickle.load(handle)"
   ]
  },
  {
   "cell_type": "markdown",
   "id": "2d8b6af1",
   "metadata": {},
   "source": [
    "### Preprocess data"
   ]
  },
  {
   "cell_type": "code",
   "execution_count": 106,
   "id": "b5db2437",
   "metadata": {},
   "outputs": [],
   "source": [
    "def sliding_windows(dataset, seq_length):    \n",
    "    x_actions = []\n",
    "    y_actions = []\n",
    "\n",
    "    actions = dataset['actions']\n",
    "    imgs = dataset['observations']\n",
    "    \n",
    "    # preprocess actions\n",
    "    actions = [[i] for i in actions]\n",
    "    \n",
    "    # preprocess images\n",
    "    x_imgs = []\n",
    "    for img in imgs:\n",
    "        img = torch.from_numpy(img).float()\n",
    "        img = img.permute(2, 0, 1)\n",
    "        x_imgs.append(img)\n",
    "    x_imgs_processed = torch.stack(x_imgs)\n",
    "    \n",
    "    # actual sliding window\n",
    "    x_imgs = []\n",
    "    for i in range(len(actions)-seq_length-1):\n",
    "        _x_actions = actions[i:(i+seq_length)]\n",
    "        _x_imgs = x_imgs_processed[i:(i+seq_length)]\n",
    "        _y_actions = actions[i+1+seq_length] # _y = data[i+seq_length]\n",
    "        \n",
    "        x_actions.append(_x_actions)\n",
    "        x_imgs.append(_x_imgs)\n",
    "        y_actions.append(_y_actions)\n",
    "        \n",
    "    x_imgs = torch.stack(x_imgs)\n",
    "\n",
    "    return np.array(x_actions), x_imgs, np.array(y_actions) # train, val. data\n",
    "\n",
    "seq_length = 20\n",
    "x_acts, x_imgs, y_acts = sliding_windows(oracle_data, seq_length)\n",
    "\n",
    "# seq. length x 3 x 32 x 32"
   ]
  },
  {
   "cell_type": "code",
   "execution_count": 107,
   "id": "1d40a7de",
   "metadata": {},
   "outputs": [],
   "source": [
    "from torch.autograd import Variable\n",
    "\n",
    "train_size = int(len(y_acts) * 0.67)\n",
    "test_size = len(y_acts) - train_size\n",
    "\n",
    "# full data set\n",
    "dataX_acts = Variable(torch.Tensor(np.array(x_acts)))\n",
    "dataX_imgs = Variable(torch.Tensor(x_imgs))\n",
    "dataY_acts = Variable(torch.Tensor(np.array(y_acts)))\n",
    "\n",
    "# training set and validation set split\n",
    "trainX_acts = Variable(torch.Tensor(np.array(x_acts[0:train_size])))\n",
    "trainX_imgs = Variable(torch.Tensor(np.array(x_imgs[0:train_size])))\n",
    "trainY_acts = Variable(torch.Tensor(np.array(y_acts[0:train_size])))\n",
    "\n",
    "testX_acts = Variable(torch.Tensor(np.array(x_acts[train_size:len(x_acts)])))\n",
    "testX_imgs = Variable(torch.Tensor(np.array(x_imgs[train_size:len(x_imgs)])))\n",
    "testY_acts = Variable(torch.Tensor(np.array(y_acts[train_size:len(y_acts)])))"
   ]
  },
  {
   "cell_type": "code",
   "execution_count": 108,
   "id": "3ebc3acb",
   "metadata": {},
   "outputs": [],
   "source": [
    "class LSTM(nn.Module):\n",
    "\n",
    "    def __init__(self, num_classes, input_size, hidden_size, num_layers):\n",
    "        super(LSTM, self).__init__()\n",
    "        \n",
    "        self.num_classes = num_classes\n",
    "        self.num_layers = num_layers\n",
    "        self.input_size = input_size\n",
    "        self.hidden_size = hidden_size\n",
    "        self.seq_length = seq_length\n",
    "        \n",
    "        self.lstm = nn.LSTM(input_size=input_size, hidden_size=hidden_size,\n",
    "                            num_layers=num_layers, batch_first=True)\n",
    "        \n",
    "        self.fc = nn.Linear(hidden_size, num_classes)\n",
    "\n",
    "    def forward(self, x):\n",
    "        h_0 = Variable(torch.zeros(\n",
    "            self.num_layers, x.size(0), self.hidden_size))\n",
    "        c_0 = Variable(torch.zeros(\n",
    "            self.num_layers, x.size(0), self.hidden_size))\n",
    "        \n",
    "        # Propagate input through LSTM\n",
    "        ula, (h_out, _) = self.lstm(x, (h_0, c_0))\n",
    "        h_out = h_out.view(-1, self.hidden_size)\n",
    "        out = self.fc(h_out)\n",
    "        \n",
    "        return out"
   ]
  },
  {
   "cell_type": "code",
   "execution_count": 109,
   "id": "ed88ac75",
   "metadata": {},
   "outputs": [
    {
     "name": "stdout",
     "output_type": "stream",
     "text": [
      "1\n"
     ]
    }
   ],
   "source": [
    "print(len(trainX_acts[0][0]))"
   ]
  },
  {
   "cell_type": "code",
   "execution_count": 110,
   "id": "327882f8",
   "metadata": {},
   "outputs": [
    {
     "name": "stdout",
     "output_type": "stream",
     "text": [
      "Epoch: 0, loss: 4.08592\n",
      "Epoch: 200, loss: 0.14944\n",
      "Epoch: 400, loss: 0.15153\n",
      "Epoch: 600, loss: 0.12619\n",
      "Epoch: 800, loss: 0.10598\n",
      "Epoch: 1000, loss: 0.10563\n",
      "Epoch: 1200, loss: 0.10560\n",
      "Epoch: 1400, loss: 0.10558\n",
      "Epoch: 1600, loss: 0.10558\n",
      "Epoch: 1800, loss: 0.10557\n"
     ]
    }
   ],
   "source": [
    "num_epochs = 2000\n",
    "learning_rate = 0.01\n",
    "\n",
    "input_size = 1\n",
    "hidden_size = 20\n",
    "num_layers = 1\n",
    "\n",
    "num_classes = 1\n",
    "\n",
    "lstm = LSTM(num_classes, input_size, hidden_size, num_layers)\n",
    "\n",
    "criterion = torch.nn.MSELoss() # MSELoss - regression, CrossEntropyLoss for labels\n",
    "optimizer = torch.optim.Adam(lstm.parameters(), lr=learning_rate)\n",
    "\n",
    "# Train the model\n",
    "for epoch in range(num_epochs):\n",
    "    outputs = lstm(trainX_acts)\n",
    "    optimizer.zero_grad()\n",
    "    \n",
    "    # obtain the loss function\n",
    "    loss = criterion(outputs, trainY_acts)\n",
    "    \n",
    "    loss.backward()\n",
    "    \n",
    "    optimizer.step()\n",
    "    if epoch % 200 == 0:\n",
    "        print(\"Epoch: %d, loss: %1.5f\" % (epoch, loss.item()))"
   ]
  },
  {
   "cell_type": "code",
   "execution_count": 114,
   "id": "7f641275",
   "metadata": {},
   "outputs": [
    {
     "data": {
      "image/png": "[encoded data removed]",
      "text/plain": [
       "<Figure size 432x288 with 1 Axes>"
      ]
     },
     "metadata": {
      "needs_background": "light"
     },
     "output_type": "display_data"
    }
   ],
   "source": [
    "from matplotlib import pyplot as plt\n",
    "\n",
    "lstm.eval()\n",
    "train_predict = lstm(dataX_acts)\n",
    "\n",
    "data_predict = train_predict.data.numpy()\n",
    "dataY_plot = dataY_acts.data.numpy()\n",
    "\n",
    "#data_predict = sc.inverse_transform(data_predict)\n",
    "#dataY_plot = sc.inverse_transform(dataY_plot)\n",
    "\n",
    "plt.axvline(x=train_size, c='r', linestyle='--')\n",
    "\n",
    "plt.plot(dataY_plot, 'o', markersize=10)\n",
    "plt.plot(data_predict, 'o', markersize=5)\n",
    "plt.suptitle('Time-Series Prediction')\n",
    "plt.show()"
   ]
  },
  {
   "cell_type": "markdown",
   "id": "219f9cf3",
   "metadata": {},
   "source": [
    "### Initialize models"
   ]
  },
  {
   "cell_type": "code",
   "execution_count": 4,
   "id": "b073691f",
   "metadata": {},
   "outputs": [],
   "source": [
    "# https://stackoverflow.com/questions/52138290/how-can-we-define-one-to-one-one-to-many-many-to-one-and-many-to-many-lstm-ne\n",
    "\n",
    "# enable model to work with different sequence lengths\n",
    "# wandb and tensorboard integration\n",
    "\n",
    "# write model summary into runs folder"
   ]
  },
  {
   "cell_type": "markdown",
   "id": "bc43af6a",
   "metadata": {},
   "source": [
    "### Tensorboard integrations"
   ]
  },
  {
   "cell_type": "code",
   "execution_count": 5,
   "id": "e1391182",
   "metadata": {},
   "outputs": [
    {
     "data": {
      "text/html": [
       "\n",
       "      <iframe id=\"tensorboard-frame-ba40d33d63490730\" width=\"100%\" height=\"800\" frameborder=\"0\">\n",
       "      </iframe>\n",
       "      <script>\n",
       "        (function() {\n",
       "          const frame = document.getElementById(\"tensorboard-frame-ba40d33d63490730\");\n",
       "          const url = new URL(\"/\", window.location);\n",
       "          const port = 6006;\n",
       "          if (port) {\n",
       "            url.port = port;\n",
       "          }\n",
       "          frame.src = url;\n",
       "        })();\n",
       "      </script>\n",
       "    "
      ],
      "text/plain": [
       "<IPython.core.display.HTML object>"
      ]
     },
     "metadata": {},
     "output_type": "display_data"
    }
   ],
   "source": [
    "%load_ext tensorboard\n",
    "%tensorboard --logdir=runs"
   ]
  },
  {
   "cell_type": "code",
   "execution_count": null,
   "id": "3b543fec",
   "metadata": {},
   "outputs": [],
   "source": [
    "# hydra integration for hyperparameters\n",
    "import hydra\n",
    "from omegaconf import OmegaConf\n",
    "import datetime\n",
    "\n",
    "\n",
    "hydra.core.global_hydra.GlobalHydra.instance().clear()\n",
    "\n",
    "hydra.initialize(version_base=None, config_path='conf') # Assume the configuration file is in the current folder\n",
    "cfg = hydra.compose(config_name='config')\n",
    "\n",
    "print(cfg)\n",
    "print(cfg.params.lr)\n",
    "\n",
    "print(OmegaConf.to_yaml(cfg))\n",
    "\n",
    "local_time = str(datetime.datetime.now().isoformat())\n",
    "name = local_time + '_configs'\n",
    "OmegaConf.save(cfg, \"runs/\"+name)"
   ]
  },
  {
   "cell_type": "markdown",
   "id": "31d724c9",
   "metadata": {},
   "source": [
    "### Train model"
   ]
  },
  {
   "cell_type": "code",
   "execution_count": 6,
   "id": "69398ae5",
   "metadata": {},
   "outputs": [
    {
     "name": "stdout",
     "output_type": "stream",
     "text": [
      "Model's state_dict:\n"
     ]
    },
    {
     "ename": "NameError",
     "evalue": "name 'DualInput_model' is not defined",
     "output_type": "error",
     "traceback": [
      "\u001b[0;31m---------------------------------------------------------------------------\u001b[0m",
      "\u001b[0;31mNameError\u001b[0m                                 Traceback (most recent call last)",
      "Input \u001b[0;32mIn [6]\u001b[0m, in \u001b[0;36m<cell line: 6>\u001b[0;34m()\u001b[0m\n\u001b[1;32m      1\u001b[0m \u001b[38;5;66;03m# track best validation value\u001b[39;00m\n\u001b[1;32m      2\u001b[0m \u001b[38;5;66;03m# save model during training\u001b[39;00m\n\u001b[1;32m      3\u001b[0m \n\u001b[1;32m      4\u001b[0m \u001b[38;5;66;03m# Print model's state_dict\u001b[39;00m\n\u001b[1;32m      5\u001b[0m \u001b[38;5;28mprint\u001b[39m(\u001b[38;5;124m\"\u001b[39m\u001b[38;5;124mModel\u001b[39m\u001b[38;5;124m'\u001b[39m\u001b[38;5;124ms state_dict:\u001b[39m\u001b[38;5;124m\"\u001b[39m)\n\u001b[0;32m----> 6\u001b[0m \u001b[38;5;28;01mfor\u001b[39;00m param_tensor \u001b[38;5;129;01min\u001b[39;00m \u001b[43mDualInput_model\u001b[49m\u001b[38;5;241m.\u001b[39mstate_dict():\n\u001b[1;32m      7\u001b[0m     \u001b[38;5;28mprint\u001b[39m(param_tensor, \u001b[38;5;124m\"\u001b[39m\u001b[38;5;130;01m\\t\u001b[39;00m\u001b[38;5;124m\"\u001b[39m, DualInput_model\u001b[38;5;241m.\u001b[39mstate_dict()[param_tensor]\u001b[38;5;241m.\u001b[39msize())\n\u001b[1;32m      9\u001b[0m \u001b[38;5;66;03m# Print optimizer's state_dict\u001b[39;00m\n",
      "\u001b[0;31mNameError\u001b[0m: name 'DualInput_model' is not defined"
     ]
    }
   ],
   "source": [
    "# track best validation value\n",
    "# save model during training\n",
    "\n",
    "# Print model's state_dict\n",
    "print(\"Model's state_dict:\")\n",
    "for param_tensor in DualInput_model.state_dict():\n",
    "    print(param_tensor, \"\\t\", DualInput_model.state_dict()[param_tensor].size())\n",
    "\n",
    "# Print optimizer's state_dict\n",
    "print(\"\\nOptimizer's state_dict:\")\n",
    "for var_name in optimizer.state_dict():\n",
    "    print(var_name, \"\\t\", optimizer.state_dict()[var_name])"
   ]
  },
  {
   "cell_type": "markdown",
   "id": "7ff5d211",
   "metadata": {},
   "source": [
    "### Plot loss and accuracy curves"
   ]
  },
  {
   "cell_type": "code",
   "execution_count": null,
   "id": "cacf262e",
   "metadata": {},
   "outputs": [],
   "source": [
    "# look into confusion matrix"
   ]
  }
 ],
 "metadata": {
  "kernelspec": {
   "display_name": "pytorch_m1",
   "language": "python",
   "name": "pytorch_m1"
  },
  "language_info": {
   "codemirror_mode": {
    "name": "ipython",
    "version": 3
   },
   "file_extension": ".py",
   "mimetype": "text/x-python",
   "name": "python",
   "nbconvert_exporter": "python",
   "pygments_lexer": "ipython3",
   "version": "3.8.13"
  }
 },
 "nbformat": 4,
 "nbformat_minor": 5
}
