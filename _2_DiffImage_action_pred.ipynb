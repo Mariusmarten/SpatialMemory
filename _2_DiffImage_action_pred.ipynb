{
 "cells": [
  {
   "cell_type": "markdown",
   "id": "7b3fcf9e",
   "metadata": {},
   "source": [
    "### Difference Image Network - PyTorch"
   ]
  },
  {
   "cell_type": "markdown",
   "id": "75a3e8e0",
   "metadata": {},
   "source": [
    "### Imports"
   ]
  },
  {
   "cell_type": "code",
   "execution_count": 1,
   "id": "487fae60",
   "metadata": {},
   "outputs": [
    {
     "name": "stderr",
     "output_type": "stream",
     "text": [
      "/Users/mariuskaestingschaefer/miniforge3/envs/pytorch/lib/python3.8/site-packages/seaborn/rcmod.py:82: DeprecationWarning: distutils Version classes are deprecated. Use packaging.version instead.\n",
      "  if LooseVersion(mpl.__version__) >= \"3.0\":\n",
      "/Users/mariuskaestingschaefer/miniforge3/envs/pytorch/lib/python3.8/site-packages/setuptools/_distutils/version.py:351: DeprecationWarning: distutils Version classes are deprecated. Use packaging.version instead.\n",
      "  other = LooseVersion(other)\n",
      "/Users/mariuskaestingschaefer/miniforge3/envs/pytorch/lib/python3.8/site-packages/torch/utils/tensorboard/__init__.py:6: DeprecationWarning: distutils Version classes are deprecated. Use packaging.version instead.\n",
      "  if not hasattr(tensorboard, '__version__') or LooseVersion(tensorboard.__version__) < LooseVersion('1.15'):\n"
     ]
    }
   ],
   "source": [
    "import pickle\n",
    "\n",
    "import torch\n",
    "import torch.nn as nn\n",
    "import torch.optim as optim\n",
    "from torchsummary import summary\n",
    "from torch.utils.data import Dataset, DataLoader\n",
    "\n",
    "from prettytable import PrettyTable\n",
    "\n",
    "# own\n",
    "import common.action as action\n",
    "import common.world as world\n",
    "import common.plot as plot\n",
    "import common.preprocess as preprocess\n",
    "import common.nets as nets\n",
    "import common.train as train\n",
    "import common.tools as tools"
   ]
  },
  {
   "cell_type": "markdown",
   "id": "25b22d65",
   "metadata": {},
   "source": [
    "### Load datasets"
   ]
  },
  {
   "cell_type": "code",
   "execution_count": 2,
   "id": "6a2fe5b8",
   "metadata": {},
   "outputs": [],
   "source": [
    "'''\n",
    "Load data with pickle (deserialize)\n",
    "'''\n",
    "with open('datasets/oracle_data.pickle', 'rb') as handle:\n",
    "    oracle_data = pickle.load(handle)\n",
    "\n",
    "with open('datasets/oracle_reversed_data.pickle', 'rb') as handle:\n",
    "    oracle_reversed_data = pickle.load(handle)\n",
    "\n",
    "with open('datasets/oracle_random_data.pickle', 'rb') as handle:\n",
    "    oracle_random_data = pickle.load(handle)\n",
    "\n",
    "with open('datasets/oracle_reversed_random_data.pickle', 'rb') as handle:\n",
    "    oracle_reversed_random_data = pickle.load(handle)\n",
    "    \n",
    "with open('datasets/random_data.pickle', 'rb') as handle:\n",
    "    random_data = pickle.load(handle)\n",
    "    \n",
    "with open('datasets/tmaze_random_reverse_data.pickle', 'rb') as handle:\n",
    "    tmaze_random_reverse_data = pickle.load(handle)\n",
    "    \n",
    "with open('datasets/oracle_reversed_random_data_small.pickle', 'rb') as handle:\n",
    "    oracle_reversed_random_data_small = pickle.load(handle)"
   ]
  },
  {
   "cell_type": "markdown",
   "id": "9ce3e024",
   "metadata": {},
   "source": [
    "### Plot example diff. image"
   ]
  },
  {
   "cell_type": "code",
   "execution_count": 3,
   "id": "877b996f",
   "metadata": {},
   "outputs": [
    {
     "name": "stderr",
     "output_type": "stream",
     "text": [
      "Clipping input data to the valid range for imshow with RGB data ([0..1] for floats or [0..255] for integers).\n"
     ]
    },
    {
     "name": "stdout",
     "output_type": "stream",
     "text": [
      "actions  [2, 2]\n",
      "position  [7.901, 22.886]\n"
     ]
    },
    {
     "data": {
      "image/png": "[encoded data removed]",
      "text/plain": [
       "<Figure size 504x504 with 1 Axes>"
      ]
     },
     "metadata": {
      "needs_background": "light"
     },
     "output_type": "display_data"
    }
   ],
   "source": [
    "distance = 2\n",
    "plot.plot_difference_img(oracle_data, distance)"
   ]
  },
  {
   "cell_type": "markdown",
   "id": "5a4afe4b",
   "metadata": {},
   "source": [
    "### Preprocess data"
   ]
  },
  {
   "cell_type": "code",
   "execution_count": 4,
   "id": "0a1441f1",
   "metadata": {},
   "outputs": [],
   "source": [
    "n = 4\n",
    "# change seq. length, recode actions, split dataset\n",
    "dataset = preprocess.split_n_steps_between(oracle_reversed_random_data_small, n=n)\n",
    "dataet, counter = preprocess.recode_actions(dataset, n)\n",
    "train_data, test_data = preprocess.split_data(dataset, 0.8)\n",
    "\n",
    "# preprocess trainingset \n",
    "oracle_train_data = preprocess.ObtainDualDataset(train_data, 'observationsA','observationsB', 'actions')\n",
    "oracle_test_data = preprocess.ObtainDualDataset(test_data, 'observationsA','observationsB', 'actions')\n",
    "\n",
    "# build dataloader (tensor format)\n",
    "batch_size = 128\n",
    "dataset_loader_train_data = DataLoader(oracle_train_data, batch_size=batch_size, shuffle=True)\n",
    "dataset_loader_test_data = DataLoader(oracle_test_data, batch_size=batch_size, shuffle=True)"
   ]
  },
  {
   "cell_type": "markdown",
   "id": "79c8b75c",
   "metadata": {},
   "source": [
    "### Inspect overlap of train and val. set in terms of classes"
   ]
  },
  {
   "cell_type": "code",
   "execution_count": 5,
   "id": "9b690242",
   "metadata": {},
   "outputs": [
    {
     "name": "stdout",
     "output_type": "stream",
     "text": [
      "total train data: 2397\n",
      "total test data: 599\n",
      "Elements where class is in both train and test data: 2309\n"
     ]
    }
   ],
   "source": [
    "n_overlap = tools.determine_overlap_train_test_data(train_data, test_data)\n",
    "print('Elements where class is in both train and test data:', n_overlap)"
   ]
  },
  {
   "cell_type": "markdown",
   "id": "fc8e91fb",
   "metadata": {},
   "source": [
    "### Two images within one batch & connecting action"
   ]
  },
  {
   "cell_type": "code",
   "execution_count": 7,
   "id": "5dac436a",
   "metadata": {},
   "outputs": [
    {
     "data": {
      "image/png": "[encoded data removed]",
      "text/plain": [
       "<Figure size 432x288 with 1 Axes>"
      ]
     },
     "metadata": {
      "needs_background": "light"
     },
     "output_type": "display_data"
    },
    {
     "name": "stdout",
     "output_type": "stream",
     "text": [
      "[146]\n"
     ]
    },
    {
     "data": {
      "image/png": "[encoded data removed]",
      "text/plain": [
       "<Figure size 432x288 with 1 Axes>"
      ]
     },
     "metadata": {
      "needs_background": "light"
     },
     "output_type": "display_data"
    }
   ],
   "source": [
    "import torchvision\n",
    "import torch\n",
    "from matplotlib import pyplot as plt\n",
    "\n",
    "classes_expl = {0: 'turn left', 1: 'turn right', 2: 'walk forwards', 3: 'walk backwards'}\n",
    "\n",
    "index = 560\n",
    "\n",
    "imageA = dataset['observationsA'][index]\n",
    "imageB = dataset['observationsB'][index]\n",
    "\n",
    "plt.imshow(imageA)\n",
    "plt.show()\n",
    "\n",
    "print(dataset['actions'][index])\n",
    "\n",
    "plt.imshow(imageB)\n",
    "plt.show()"
   ]
  },
  {
   "cell_type": "markdown",
   "id": "0de6887f",
   "metadata": {},
   "source": [
    "### Initialize the model"
   ]
  },
  {
   "cell_type": "code",
   "execution_count": 8,
   "id": "b84bc00c",
   "metadata": {},
   "outputs": [
    {
     "name": "stdout",
     "output_type": "stream",
     "text": [
      "----------------------------------------------------------------\n",
      "        Layer (type)               Output Shape         Param #\n",
      "================================================================\n",
      "            Conv2d-1            [-1, 6, 28, 28]             456\n",
      "         MaxPool2d-2            [-1, 6, 14, 14]               0\n",
      "            Conv2d-3           [-1, 16, 10, 10]           2,416\n",
      "         MaxPool2d-4             [-1, 16, 5, 5]               0\n",
      "            Linear-5                  [-1, 120]          48,120\n",
      "            Linear-6                   [-1, 84]          10,164\n",
      "            Linear-7                  [-1, 256]          21,760\n",
      "================================================================\n",
      "Total params: 82,916\n",
      "Trainable params: 82,916\n",
      "Non-trainable params: 0\n",
      "----------------------------------------------------------------\n",
      "Input size (MB): 0.01\n",
      "Forward/backward pass size (MB): 0.06\n",
      "Params size (MB): 0.32\n",
      "Estimated Total Size (MB): 0.39\n",
      "----------------------------------------------------------------\n"
     ]
    }
   ],
   "source": [
    "forward = nets.Forward(counter) # FC-Feed-forward network\n",
    "summary(forward, (3,32,32)) "
   ]
  },
  {
   "cell_type": "code",
   "execution_count": 9,
   "id": "518d94fa",
   "metadata": {},
   "outputs": [
    {
     "ename": "ModuleNotFoundError",
     "evalue": "No module named 'plot'",
     "output_type": "error",
     "traceback": [
      "\u001b[0;31m---------------------------------------------------------------------------\u001b[0m",
      "\u001b[0;31mModuleNotFoundError\u001b[0m                       Traceback (most recent call last)",
      "Input \u001b[0;32mIn [9]\u001b[0m, in \u001b[0;36m<cell line: 2>\u001b[0;34m()\u001b[0m\n\u001b[1;32m      1\u001b[0m \u001b[38;5;28;01mimport\u001b[39;00m \u001b[38;5;21;01mtorch\u001b[39;00m\n\u001b[0;32m----> 2\u001b[0m \u001b[38;5;28;01mimport\u001b[39;00m \u001b[38;5;21;01mplot\u001b[39;00m\n\u001b[1;32m      3\u001b[0m \u001b[38;5;28;01mfrom\u001b[39;00m \u001b[38;5;21;01mtqdm\u001b[39;00m\u001b[38;5;21;01m.\u001b[39;00m\u001b[38;5;21;01mauto\u001b[39;00m \u001b[38;5;28;01mimport\u001b[39;00m tqdm\n\u001b[1;32m      5\u001b[0m \u001b[38;5;28;01mimport\u001b[39;00m \u001b[38;5;21;01mtorchvision\u001b[39;00m\n",
      "\u001b[0;31mModuleNotFoundError\u001b[0m: No module named 'plot'"
     ]
    }
   ],
   "source": [
    "import torch\n",
    "import plot\n",
    "from tqdm.auto import tqdm\n",
    "\n",
    "import torchvision\n",
    "from torch.utils.tensorboard import SummaryWriter\n",
    "\n",
    "def train(train_data, val_data, net, criterion, optimizer, steps):\n",
    "    '''\n",
    "    Main training loop\n",
    "    Input: dataset_loader, network, training_loss, optimizer, step size\n",
    "    Output: trained network\n",
    "    '''\n",
    "\n",
    "    train_loss = []\n",
    "    test_loss = []\n",
    "    train_acc = []\n",
    "    test_acc = []\n",
    "\n",
    "    with tqdm(total=steps, unit =\" Episode\", desc =\"Progress\") as pbar:\n",
    "        for epoch in range(steps):  # loop over the dataset multiple times\n",
    "\n",
    "            train_running_loss = 0.0\n",
    "\n",
    "            train_correct = 0\n",
    "            train_total = 0\n",
    "\n",
    "            for i, data in enumerate(train_data, 0):\n",
    "                # get the inputs; data is a list of [inputs, labels]\n",
    "                inputsA, inputsB, labels = data\n",
    "                labels = labels[0]\n",
    "                labels = labels.to(torch.long)\n",
    "                \n",
    "                inputs = inputsB - inputsA\n",
    "\n",
    "                # zero the parameter gradients\n",
    "                optimizer.zero_grad()\n",
    "\n",
    "                # forward + backward + optimize\n",
    "                outputs = net(inputs)\n",
    "                loss = criterion(outputs, labels)\n",
    "                loss.backward()\n",
    "                optimizer.step()\n",
    "\n",
    "                # compute acc\n",
    "                _, predicted = torch.max(outputs.data, 1)\n",
    "                train_total += labels.size(0)\n",
    "                train_correct += (predicted == labels).sum().item()\n",
    "\n",
    "                # track loss statistics\n",
    "                train_running_loss += loss.item()\n",
    "\n",
    "                test_running_loss = 0.0\n",
    "\n",
    "                test_correct = 0\n",
    "                test_total = 0\n",
    "\n",
    "                # same for validation set\n",
    "                with torch.no_grad():\n",
    "                    for data in val_data:\n",
    "                        inputsA, inputsB, labels = data\n",
    "                        labels = labels[0]\n",
    "                        labels = labels.to(torch.long)\n",
    "                        \n",
    "                        inputs = inputsB - inputsA\n",
    "                        \n",
    "                        outputs = net(inputs)\n",
    "                        loss = criterion(outputs, labels)\n",
    "                        test_running_loss += loss.item()\n",
    "\n",
    "                        _, predicted = torch.max(outputs.data, 1)\n",
    "                        test_total += labels.size(0)\n",
    "                        test_correct += (predicted == labels).sum().item()\n",
    "\n",
    "            train_loss.append(train_running_loss/len(train_data))\n",
    "            test_loss.append(test_running_loss/len(val_data))\n",
    "            train_acc.append(100 * train_correct / train_total)\n",
    "            test_acc.append(100 * test_correct / test_total)\n",
    "            pbar.update(1)\n",
    "\n",
    "            if epoch % 10 == 0:\n",
    "                print(f'Epoch: {epoch + 1}, Train Loss: {(train_running_loss/len(train_data)):.4}, Train Acc: {(100 * train_correct / train_total):.4} %,  Test Loss: {(test_running_loss/len(val_data)):.4}, Test Acc: {(100 * test_correct / test_total):.4} %,')\n",
    "\n",
    "    print('Finished Training')\n",
    "    return net, train_loss, test_loss, train_acc, test_acc"
   ]
  },
  {
   "cell_type": "markdown",
   "id": "e5b9d60f",
   "metadata": {},
   "source": [
    "### Train model"
   ]
  },
  {
   "cell_type": "code",
   "execution_count": null,
   "id": "ec124bc6",
   "metadata": {},
   "outputs": [],
   "source": [
    "criterion = nn.CrossEntropyLoss()\n",
    "optimizer = optim.Adam(forward.parameters(), lr=0.001) #, momentum=0.9) # for small one 0.01 works well\n",
    "\n",
    "episodes = 500\n",
    "forward, train_loss, test_loss, train_acc, test_acc  = train(dataset_loader_train_data, dataset_loader_test_data, forward, criterion, optimizer, episodes)"
   ]
  },
  {
   "cell_type": "markdown",
   "id": "d261deb0",
   "metadata": {},
   "source": [
    "### Plot loss and accuracy curves for training and test set"
   ]
  },
  {
   "cell_type": "code",
   "execution_count": null,
   "id": "352aebae",
   "metadata": {},
   "outputs": [],
   "source": [
    "plot.plot_losses(train_loss, test_loss)\n",
    "plot.plot_acc(train_acc, test_acc, smooth=False)"
   ]
  },
  {
   "cell_type": "code",
   "execution_count": null,
   "id": "3c51c7cf",
   "metadata": {},
   "outputs": [],
   "source": [
    "def plot_losses(test_loss, train_loss):\n",
    "    with plt.style.context('ggplot'):\n",
    "        plt.figure(figsize=(12, 7))\n",
    "        #plt.style.use('ggplot')\n",
    "        plt.rcParams.update({'font.size': 16})\n",
    "        plt.plot(test_loss, color='slategray', linewidth=2)\n",
    "        plt.plot(train_loss, color='red', linewidth=2)\n",
    "        plt.legend(['Training Loss', 'Validation Loss'])\n",
    "        plt.xlabel('Epochs')\n",
    "        plt.ylabel('Loss')\n",
    "        plt.title('Loss')\n",
    "        plt.show()\n",
    "\n",
    "def plot_acc(test_acc, train_acc, smooth=False):\n",
    "\n",
    "    if smooth:\n",
    "        test_acc_smoothed = savgol_filter(test_acc, 30, 12)  # window size, polynomial order\n",
    "        train_acc_smoothed = savgol_filter(train_acc, 30, 12)\n",
    "\n",
    "    with plt.style.context('ggplot'):\n",
    "        plt.figure(figsize=(12, 7))\n",
    "        #plt.style.use('ggplot')\n",
    "        plt.rcParams.update({'font.size': 16})\n",
    "        if smooth:\n",
    "            plt.plot(test_acc_smoothed, color='slategray', linewidth=2)\n",
    "            plt.plot(train_acc_smoothed, color='red', linewidth=2)\n",
    "        else:\n",
    "            plt.plot(test_acc, color='slategray', linewidth=2)\n",
    "            plt.plot(train_acc, color='red', linewidth=2)\n",
    "        plt.legend(['Training Acc', 'Validation Acc'])\n",
    "        plt.xlabel('Epochs')\n",
    "        plt.ylabel('Accuracy in %')\n",
    "        plt.title('Accuracy')\n",
    "        plt.show()"
   ]
  }
 ],
 "metadata": {
  "kernelspec": {
   "display_name": "pytorch_m1",
   "language": "python",
   "name": "pytorch_m1"
  },
  "language_info": {
   "codemirror_mode": {
    "name": "ipython",
    "version": 3
   },
   "file_extension": ".py",
   "mimetype": "text/x-python",
   "name": "python",
   "nbconvert_exporter": "python",
   "pygments_lexer": "ipython3",
   "version": "3.8.13"
  }
 },
 "nbformat": 4,
 "nbformat_minor": 5
}
